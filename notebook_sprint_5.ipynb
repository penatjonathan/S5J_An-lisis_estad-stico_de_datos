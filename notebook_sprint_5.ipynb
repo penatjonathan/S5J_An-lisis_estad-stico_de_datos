{
 "cells": [
  {
   "cell_type": "markdown",
   "metadata": {
    "id": "3rYiDeEH0q0f"
   },
   "source": [
    "# ¿Cuál es la mejor tarifa?\n",
    "\n",
    "Trabajas como analista para el operador de telecomunicaciones Megaline. La empresa ofrece a sus clientes dos tarifas de prepago, Surf y Ultimate. El departamento comercial quiere saber cuál de las tarifas genera más ingresos para poder ajustar el presupuesto de publicidad.\n",
    "\n",
    "Vas a realizar un análisis preliminar de las tarifas basado en una selección de clientes relativamente pequeña. Tendrás los datos de 500 clientes de Megaline: quiénes son los clientes, de dónde son, qué tarifa usan, así como la cantidad de llamadas que hicieron y los mensajes de texto que enviaron en 2018. Tu trabajo es analizar el comportamiento de los clientes y determinar qué tarifa de prepago genera más ingresos."
   ]
  },
  {
   "cell_type": "markdown",
   "metadata": {
    "id": "VNddPNRQ0q0w"
   },
   "source": [
    "[Te proporcionamos algunos comentarios para orientarte mientras completas este proyecto. Pero debes asegurarte de eliminar todos los comentarios entre corchetes antes de entregar tu proyecto.]\n",
    "\n",
    "[Antes de sumergirte en el análisis de datos, explica por tu propia cuenta el propósito del proyecto y las acciones que planeas realizar.]\n",
    "\n",
    "[Ten en cuenta que estudiar, modificar y analizar datos es un proceso iterativo. Es normal volver a los pasos anteriores y corregirlos/ampliarlos para permitir nuevos pasos.]"
   ]
  },
  {
   "cell_type": "code",
   "execution_count": 369,
   "metadata": {},
   "outputs": [
    {
     "name": "stdout",
     "output_type": "stream",
     "text": [
      "Requirement already satisfied: scipy in c:\\users\\jonat\\appdata\\local\\packages\\pythonsoftwarefoundation.python.3.11_qbz5n2kfra8p0\\localcache\\local-packages\\python311\\site-packages (1.16.1)\n",
      "Requirement already satisfied: numpy<2.6,>=1.25.2 in c:\\users\\jonat\\appdata\\local\\packages\\pythonsoftwarefoundation.python.3.11_qbz5n2kfra8p0\\localcache\\local-packages\\python311\\site-packages (from scipy) (2.2.4)\n"
     ]
    },
    {
     "name": "stderr",
     "output_type": "stream",
     "text": [
      "\n",
      "[notice] A new release of pip is available: 24.0 -> 25.2\n",
      "[notice] To update, run: C:\\Users\\jonat\\AppData\\Local\\Microsoft\\WindowsApps\\PythonSoftwareFoundation.Python.3.11_qbz5n2kfra8p0\\python.exe -m pip install --upgrade pip\n"
     ]
    }
   ],
   "source": [
    "!pip install scipy"
   ]
  },
  {
   "cell_type": "markdown",
   "metadata": {
    "id": "MQi4IPy70q0y"
   },
   "source": [
    "## Inicialización"
   ]
  },
  {
   "cell_type": "code",
   "execution_count": 370,
   "metadata": {
    "id": "MtYIuBxu0q0z"
   },
   "outputs": [],
   "source": [
    "# Cargar todas las librerías\n",
    "from scipy import stats as st\n",
    "import pandas as pd\n",
    "import matplotlib.pyplot as plt\n",
    "import seaborn as sns\n",
    "import numpy as np\n",
    "\n",
    "\n",
    "\n",
    "\n"
   ]
  },
  {
   "cell_type": "markdown",
   "metadata": {
    "id": "4ysWWC5i0q00"
   },
   "source": [
    "## Cargar datos"
   ]
  },
  {
   "cell_type": "code",
   "execution_count": 371,
   "metadata": {
    "id": "CCqPW7rS0q01"
   },
   "outputs": [],
   "source": [
    "\n",
    "# Carga los archivos de datos en diferentes DataFrames\n",
    "t2 = pd.read_csv(r\"C:\\Users\\jonat\\Desktop\\DATA_SCIENTIST\\SPRINT_5\\megaline_calls.csv\")\n",
    "t4 = pd.read_csv(r\"C:\\Users\\jonat\\Desktop\\DATA_SCIENTIST\\SPRINT_5\\megaline_internet.csv\")\n",
    "t3 = pd.read_csv(r\"C:\\Users\\jonat\\Desktop\\DATA_SCIENTIST\\SPRINT_5\\megaline_messages.csv\")\n",
    "t5 = pd.read_csv(r\"C:\\Users\\jonat\\Desktop\\DATA_SCIENTIST\\SPRINT_5\\megaline_plans.csv\")\n",
    "t1 = pd.read_csv(r\"C:\\Users\\jonat\\Desktop\\DATA_SCIENTIST\\SPRINT_5\\megaline_users.csv\")\n"
   ]
  },
  {
   "cell_type": "markdown",
   "metadata": {
    "id": "69qqoJ3r0q01"
   },
   "source": [
    "## Preparar los datos"
   ]
  },
  {
   "cell_type": "markdown",
   "metadata": {
    "id": "vUuZw80S0q01"
   },
   "source": [
    "[Los datos para este proyecto se dividen en varias tablas. Explora cada una para tener una comprensión inicial de los datos. Si es necesario, haz las correcciones requeridas en cada tabla.]"
   ]
  },
  {
   "cell_type": "code",
   "execution_count": 372,
   "metadata": {},
   "outputs": [
    {
     "name": "stdout",
     "output_type": "stream",
     "text": [
      "user_id        int64\n",
      "first_name    object\n",
      "last_name     object\n",
      "age            int64\n",
      "city          object\n",
      "reg_date      object\n",
      "plan          object\n",
      "churn_date    object\n",
      "dtype: object\n",
      "\n",
      "id            object\n",
      "user_id        int64\n",
      "call_date     object\n",
      "duration     float64\n",
      "dtype: object\n",
      "\n",
      "id              object\n",
      "user_id          int64\n",
      "message_date    object\n",
      "dtype: object\n",
      "\n",
      "id               object\n",
      "user_id           int64\n",
      "session_date     object\n",
      "mb_used         float64\n",
      "dtype: object\n",
      "\n",
      "messages_included          int64\n",
      "mb_per_month_included      int64\n",
      "minutes_included           int64\n",
      "usd_monthly_pay            int64\n",
      "usd_per_gb                 int64\n",
      "usd_per_message          float64\n",
      "usd_per_minute           float64\n",
      "plan_name                 object\n",
      "dtype: object\n"
     ]
    }
   ],
   "source": [
    "print(t1.dtypes)\n",
    "print()\n",
    "print(t2.dtypes)\n",
    "print()\n",
    "print(t3.dtypes)\n",
    "print()\n",
    "print(t4.dtypes)\n",
    "print()\n",
    "print(t5.dtypes)"
   ]
  },
  {
   "cell_type": "markdown",
   "metadata": {
    "id": "ohBhimvH0q01"
   },
   "source": [
    "## Tarifas"
   ]
  },
  {
   "cell_type": "code",
   "execution_count": 373,
   "metadata": {
    "id": "GptqP3Q40q02"
   },
   "outputs": [
    {
     "name": "stdout",
     "output_type": "stream",
     "text": [
      "<class 'pandas.core.frame.DataFrame'>\n",
      "RangeIndex: 2 entries, 0 to 1\n",
      "Data columns (total 8 columns):\n",
      " #   Column                 Non-Null Count  Dtype  \n",
      "---  ------                 --------------  -----  \n",
      " 0   messages_included      2 non-null      int64  \n",
      " 1   mb_per_month_included  2 non-null      int64  \n",
      " 2   minutes_included       2 non-null      int64  \n",
      " 3   usd_monthly_pay        2 non-null      int64  \n",
      " 4   usd_per_gb             2 non-null      int64  \n",
      " 5   usd_per_message        2 non-null      float64\n",
      " 6   usd_per_minute         2 non-null      float64\n",
      " 7   plan_name              2 non-null      object \n",
      "dtypes: float64(2), int64(5), object(1)\n",
      "memory usage: 260.0+ bytes\n"
     ]
    }
   ],
   "source": [
    "# Imprime la información general/resumida sobre el DataFrame de las tarifas\n",
    "t5.info()"
   ]
  },
  {
   "cell_type": "code",
   "execution_count": 374,
   "metadata": {
    "id": "64xzjwL70q02"
   },
   "outputs": [
    {
     "name": "stdout",
     "output_type": "stream",
     "text": [
      "   messages_included  mb_per_month_included  minutes_included  \\\n",
      "0                 50                  15360               500   \n",
      "1               1000                  30720              3000   \n",
      "\n",
      "   usd_monthly_pay  usd_per_gb  usd_per_message  usd_per_minute plan_name  \n",
      "0               20          10             0.03            0.03      surf  \n",
      "1               70           7             0.01            0.01  ultimate  \n"
     ]
    }
   ],
   "source": [
    "# Imprime una muestra de los datos para las tarifas\n",
    "print(t5.head())"
   ]
  },
  {
   "cell_type": "markdown",
   "metadata": {
    "id": "mEc_3_hs0q02"
   },
   "source": [
    "[Describe lo que ves y observas en la información general y en la muestra de datos impresa para el precio de datos anterior. ¿Hay algún problema (tipos de datos no adecuados, datos ausentes, etc.) que pudieran necesitar investigación y cambios adicionales? ¿Cómo se puede arreglar?]\n",
    "\n",
    "Los datos son correctos, las tarifas son correctas, tarifas de cobro por excedentes.\n",
    "Observaciones: El plan maneja GB por lo las multiplicaciones de conversion a mb son correctas tomando en cunta 1024\n",
    "No hay Valores ausentes y es una tabla de informacion detallada sobre los planes surf y ultimate que maneja la compañia"
   ]
  },
  {
   "cell_type": "markdown",
   "metadata": {
    "collapsed": false,
    "id": "R3C05i1l0q03",
    "jupyter": {
     "outputs_hidden": false
    }
   },
   "source": [
    "### Corregir datos"
   ]
  },
  {
   "cell_type": "markdown",
   "metadata": {
    "id": "bIi8StZI0q03"
   },
   "source": [
    "[Corrige los problemas obvios con los datos basándote en las observaciones iniciales.]"
   ]
  },
  {
   "cell_type": "markdown",
   "metadata": {
    "id": "Y7SVmjGn0q03"
   },
   "source": [
    "No veo conveniente modificar datos, sin embargo creo conveniente el poder reordenar el numero de columnas es decir que el nombre del plan se muestre primero"
   ]
  },
  {
   "cell_type": "code",
   "execution_count": 375,
   "metadata": {},
   "outputs": [
    {
     "name": "stdout",
     "output_type": "stream",
     "text": [
      "  plan_name  messages_included  mb_per_month_included  minutes_included  \\\n",
      "0      surf                 50                  15360               500   \n",
      "1  ultimate               1000                  30720              3000   \n",
      "\n",
      "   usd_monthly_pay  usd_per_gb  usd_per_message  usd_per_minute  \n",
      "0               20          10             0.03            0.03  \n",
      "1               70           7             0.01            0.01  \n"
     ]
    }
   ],
   "source": [
    "\n",
    "columnas = [t5.columns[-1]] + list(t5.columns[:-1])\n",
    "t5 = t5[columnas]\n",
    "print(t5)\n"
   ]
  },
  {
   "cell_type": "markdown",
   "metadata": {
    "id": "LJir7bml0q03"
   },
   "source": [
    "### Enriquecer los datos"
   ]
  },
  {
   "cell_type": "markdown",
   "metadata": {
    "id": "eqADpCfg0q04"
   },
   "source": [
    "[Agrega factores adicionales a los datos si crees que pudieran ser útiles.]"
   ]
  },
  {
   "cell_type": "markdown",
   "metadata": {
    "id": "gfcIEuXV0q04"
   },
   "source": [
    "No veo conveniente modificar datos, sin embargo creo conveniente transformar los mb_per_month_included a GB es decir dividir todo entre 1024 para visualizar en enteros"
   ]
  },
  {
   "cell_type": "code",
   "execution_count": 376,
   "metadata": {},
   "outputs": [
    {
     "name": "stdout",
     "output_type": "stream",
     "text": [
      "  plan_name  messages_included  mb_per_month_included  minutes_included  \\\n",
      "0      surf                 50                   15.0               500   \n",
      "1  ultimate               1000                   30.0              3000   \n",
      "\n",
      "   usd_monthly_pay  usd_per_gb  usd_per_message  usd_per_minute  \n",
      "0               20          10             0.03            0.03  \n",
      "1               70           7             0.01            0.01  \n"
     ]
    }
   ],
   "source": [
    "\n",
    "mb_a_gb = []\n",
    "for datos in t5['mb_per_month_included']:\n",
    "    mb_a_gb.append(datos/1024)\n",
    "t5['mb_per_month_included'] = mb_a_gb\n",
    "print(t5)\n"
   ]
  },
  {
   "cell_type": "markdown",
   "metadata": {
    "id": "1n2X6WXf0q04"
   },
   "source": [
    "## Usuarios"
   ]
  },
  {
   "cell_type": "code",
   "execution_count": 377,
   "metadata": {
    "id": "2NgjWFqx0q05"
   },
   "outputs": [
    {
     "name": "stdout",
     "output_type": "stream",
     "text": [
      "<class 'pandas.core.frame.DataFrame'>\n",
      "RangeIndex: 500 entries, 0 to 499\n",
      "Data columns (total 8 columns):\n",
      " #   Column      Non-Null Count  Dtype \n",
      "---  ------      --------------  ----- \n",
      " 0   user_id     500 non-null    int64 \n",
      " 1   first_name  500 non-null    object\n",
      " 2   last_name   500 non-null    object\n",
      " 3   age         500 non-null    int64 \n",
      " 4   city        500 non-null    object\n",
      " 5   reg_date    500 non-null    object\n",
      " 6   plan        500 non-null    object\n",
      " 7   churn_date  34 non-null     object\n",
      "dtypes: int64(2), object(6)\n",
      "memory usage: 31.4+ KB\n"
     ]
    }
   ],
   "source": [
    "# Imprime la información general/resumida sobre el DataFrame de usuarios\n",
    "t1.info()"
   ]
  },
  {
   "cell_type": "code",
   "execution_count": 378,
   "metadata": {
    "id": "1IN1L9uh0q05"
   },
   "outputs": [
    {
     "name": "stdout",
     "output_type": "stream",
     "text": [
      "     user_id first_name  last_name  age  \\\n",
      "448     1448     Elayne      Foley   33   \n",
      "174     1174     Larisa      Ellis   67   \n",
      "472     1472     Maximo    Mendoza   51   \n",
      "28      1028   Jefferey  Rasmussen   57   \n",
      "456     1456    Seymour      Olsen   66   \n",
      "\n",
      "                                                city    reg_date      plan  \\\n",
      "448                           Urban Honolulu, HI MSA  2018-10-17      surf   \n",
      "174                         Cleveland-Elyria, OH MSA  2018-01-28      surf   \n",
      "472           San Francisco-Oakland-Berkeley, CA MSA  2018-04-10      surf   \n",
      "28   Philadelphia-Camden-Wilmington, PA-NJ-DE-MD MSA  2018-02-21  ultimate   \n",
      "456      Minneapolis-St. Paul-Bloomington, MN-WI MSA  2018-06-02  ultimate   \n",
      "\n",
      "    churn_date  \n",
      "448        NaN  \n",
      "174        NaN  \n",
      "472        NaN  \n",
      "28         NaN  \n",
      "456        NaN  \n",
      "[1000 1001 1002 1003 1004 1005 1006 1007 1008 1009 1010 1011 1012 1013\n",
      " 1014 1015 1016 1017 1018 1019 1020 1021 1022 1023 1024 1025 1026 1027\n",
      " 1028 1029 1030 1031 1032 1033 1034 1035 1036 1037 1038 1039 1040 1041\n",
      " 1042 1043 1044 1045 1046 1047 1048 1049 1050 1051 1052 1053 1054 1055\n",
      " 1056 1057 1058 1059 1060 1061 1062 1063 1064 1065 1066 1067 1068 1069\n",
      " 1070 1071 1072 1073 1074 1075 1076 1077 1078 1079 1080 1081 1082 1083\n",
      " 1084 1085 1086 1087 1088 1089 1090 1091 1092 1093 1094 1095 1096 1097\n",
      " 1098 1099 1100 1101 1102 1103 1104 1105 1106 1107 1108 1109 1110 1111\n",
      " 1112 1113 1114 1115 1116 1117 1118 1119 1120 1121 1122 1123 1124 1125\n",
      " 1126 1127 1128 1129 1130 1131 1132 1133 1134 1135 1136 1137 1138 1139\n",
      " 1140 1141 1142 1143 1144 1145 1146 1147 1148 1149 1150 1151 1152 1153\n",
      " 1154 1155 1156 1157 1158 1159 1160 1161 1162 1163 1164 1165 1166 1167\n",
      " 1168 1169 1170 1171 1172 1173 1174 1175 1176 1177 1178 1179 1180 1181\n",
      " 1182 1183 1184 1185 1186 1187 1188 1189 1190 1191 1192 1193 1194 1195\n",
      " 1196 1197 1198 1199 1200 1201 1202 1203 1204 1205 1206 1207 1208 1209\n",
      " 1210 1211 1212 1213 1214 1215 1216 1217 1218 1219 1220 1221 1222 1223\n",
      " 1224 1225 1226 1227 1228 1229 1230 1231 1232 1233 1234 1235 1236 1237\n",
      " 1238 1239 1240 1241 1242 1243 1244 1245 1246 1247 1248 1249 1250 1251\n",
      " 1252 1253 1254 1255 1256 1257 1258 1259 1260 1261 1262 1263 1264 1265\n",
      " 1266 1267 1268 1269 1270 1271 1272 1273 1274 1275 1276 1277 1278 1279\n",
      " 1280 1281 1282 1283 1284 1285 1286 1287 1288 1289 1290 1291 1292 1293\n",
      " 1294 1295 1296 1297 1298 1299 1300 1301 1302 1303 1304 1305 1306 1307\n",
      " 1308 1309 1310 1311 1312 1313 1314 1315 1316 1317 1318 1319 1320 1321\n",
      " 1322 1323 1324 1325 1326 1327 1328 1329 1330 1331 1332 1333 1334 1335\n",
      " 1336 1337 1338 1339 1340 1341 1342 1343 1344 1345 1346 1347 1348 1349\n",
      " 1350 1351 1352 1353 1354 1355 1356 1357 1358 1359 1360 1361 1362 1363\n",
      " 1364 1365 1366 1367 1368 1369 1370 1371 1372 1373 1374 1375 1376 1377\n",
      " 1378 1379 1380 1381 1382 1383 1384 1385 1386 1387 1388 1389 1390 1391\n",
      " 1392 1393 1394 1395 1396 1397 1398 1399 1400 1401 1402 1403 1404 1405\n",
      " 1406 1407 1408 1409 1410 1411 1412 1413 1414 1415 1416 1417 1418 1419\n",
      " 1420 1421 1422 1423 1424 1425 1426 1427 1428 1429 1430 1431 1432 1433\n",
      " 1434 1435 1436 1437 1438 1439 1440 1441 1442 1443 1444 1445 1446 1447\n",
      " 1448 1449 1450 1451 1452 1453 1454 1455 1456 1457 1458 1459 1460 1461\n",
      " 1462 1463 1464 1465 1466 1467 1468 1469 1470 1471 1472 1473 1474 1475\n",
      " 1476 1477 1478 1479 1480 1481 1482 1483 1484 1485 1486 1487 1488 1489\n",
      " 1490 1491 1492 1493 1494 1495 1496 1497 1498 1499]\n",
      "6      2018-12-18\n",
      "12     2018-11-16\n",
      "22     2018-09-07\n",
      "40     2018-12-30\n",
      "50     2018-10-07\n",
      "54     2018-12-31\n",
      "67     2018-11-24\n",
      "83     2018-12-18\n",
      "84     2018-11-11\n",
      "94     2018-12-12\n",
      "106    2018-11-14\n",
      "129    2018-12-27\n",
      "172    2018-11-29\n",
      "180    2018-12-22\n",
      "186    2018-12-31\n",
      "191    2018-11-30\n",
      "220    2018-10-13\n",
      "246    2018-07-31\n",
      "269    2018-12-15\n",
      "281    2018-11-14\n",
      "296    2018-12-18\n",
      "298    2018-12-19\n",
      "300    2018-12-19\n",
      "315    2018-10-03\n",
      "358    2018-10-22\n",
      "363    2018-08-16\n",
      "402    2018-12-26\n",
      "414    2018-09-01\n",
      "416    2018-11-21\n",
      "441    2018-08-19\n",
      "451    2018-12-10\n",
      "466    2018-09-17\n",
      "467    2018-11-18\n",
      "491    2018-09-18\n",
      "Name: churn_date, dtype: object\n"
     ]
    }
   ],
   "source": [
    "# Imprime una muestra de datos para usuarios\n",
    "print(t1.sample(n=5))\n",
    "\n",
    "print(t1['user_id'].unique())\n",
    "\n",
    "print(t1['churn_date'].dropna())"
   ]
  },
  {
   "cell_type": "markdown",
   "metadata": {
    "id": "dCZoUq4f0q06",
    "jp-MarkdownHeadingCollapsed": true
   },
   "source": [
    "[Describe lo que ves y observas en la información general y en la muestra de datos impresa para el precio de datos anterior. ¿Hay algún problema (tipos de datos no adecuados, datos ausentes, etc.) que pudieran necesitar investigación y cambios adicionales? ¿Cómo se puede arreglar?]\n",
    "\n",
    "Hay datos ausentes en la columna churn_date, lo que quiere decir que la tarifa se estaba usando cuando fue extraida esta base de datos, por otro lado, debemos reemplazarlos y contarlos para poder manipularlos a nuestro favor.\n",
    "Debemos revisar igual el formato de fecha que tenemos en la columna reg_date, para poder homologar el mismo formato para todas las fechas\n",
    "\n",
    "Esta tabla no cuenta con valores duplicados, es decir todos los usuarios son unicos, ya que la muestra va de 1000 a 1499 y son 500 usuasrios en la muestra"
   ]
  },
  {
   "cell_type": "markdown",
   "metadata": {
    "id": "BX5FQh_I0q06"
   },
   "source": [
    "### Corregir los datos"
   ]
  },
  {
   "cell_type": "code",
   "execution_count": 379,
   "metadata": {
    "id": "yUqX-K0C0q07"
   },
   "outputs": [
    {
     "name": "stdout",
     "output_type": "stream",
     "text": [
      "61     2018-03-08\n",
      "263    2018-03-06\n",
      "254    2018-08-03\n",
      "148    2018-11-04\n",
      "233    2018-09-11\n",
      "Name: reg_date, dtype: object\n"
     ]
    }
   ],
   "source": [
    "print(t1['reg_date'].sample(n=5))"
   ]
  },
  {
   "cell_type": "markdown",
   "metadata": {},
   "source": [
    "El formato de las fechas esta correcto, es decir aaaa-mm-dd, sin embargo como estamos trabajando unicamente con el año 2018, no importan los dias ya que el analisis es por mes, entonces unicamente las fechas las convertiremos a mes \n"
   ]
  },
  {
   "cell_type": "code",
   "execution_count": 380,
   "metadata": {},
   "outputs": [
    {
     "name": "stdout",
     "output_type": "stream",
     "text": [
      "466\n"
     ]
    }
   ],
   "source": [
    "print(t1['churn_date'].isna().sum())"
   ]
  },
  {
   "cell_type": "markdown",
   "metadata": {
    "id": "ycwuARJp0q07"
   },
   "source": [
    "### Enriquecer los datos"
   ]
  },
  {
   "cell_type": "markdown",
   "metadata": {
    "id": "96NIh4CJ0q08"
   },
   "source": [
    "[Agrega factores adicionales a los datos si crees que pudieran ser útiles.]"
   ]
  },
  {
   "cell_type": "code",
   "execution_count": 381,
   "metadata": {
    "id": "iq0AaBS90q08"
   },
   "outputs": [
    {
     "name": "stdout",
     "output_type": "stream",
     "text": [
      "6      2018-12-18\n",
      "12     2018-11-16\n",
      "22     2018-09-07\n",
      "40     2018-12-30\n",
      "50     2018-10-07\n",
      "54     2018-12-31\n",
      "67     2018-11-24\n",
      "83     2018-12-18\n",
      "84     2018-11-11\n",
      "94     2018-12-12\n",
      "106    2018-11-14\n",
      "129    2018-12-27\n",
      "172    2018-11-29\n",
      "180    2018-12-22\n",
      "186    2018-12-31\n",
      "191    2018-11-30\n",
      "220    2018-10-13\n",
      "246    2018-07-31\n",
      "269    2018-12-15\n",
      "281    2018-11-14\n",
      "296    2018-12-18\n",
      "298    2018-12-19\n",
      "300    2018-12-19\n",
      "315    2018-10-03\n",
      "358    2018-10-22\n",
      "363    2018-08-16\n",
      "402    2018-12-26\n",
      "414    2018-09-01\n",
      "416    2018-11-21\n",
      "441    2018-08-19\n",
      "451    2018-12-10\n",
      "466    2018-09-17\n",
      "467    2018-11-18\n",
      "491    2018-09-18\n",
      "Name: churn_date, dtype: object\n"
     ]
    }
   ],
   "source": [
    "t1['churn_date'] = t1['churn_date'].fillna(0)\n",
    "print(t1[t1['churn_date'] != 0]['churn_date'])"
   ]
  },
  {
   "cell_type": "markdown",
   "metadata": {
    "id": "o7MeKCid0q08"
   },
   "source": [
    "## Llamadas"
   ]
  },
  {
   "cell_type": "code",
   "execution_count": 382,
   "metadata": {
    "id": "6dDlnoDm0q08"
   },
   "outputs": [
    {
     "name": "stdout",
     "output_type": "stream",
     "text": [
      "<class 'pandas.core.frame.DataFrame'>\n",
      "RangeIndex: 137735 entries, 0 to 137734\n",
      "Data columns (total 4 columns):\n",
      " #   Column     Non-Null Count   Dtype  \n",
      "---  ------     --------------   -----  \n",
      " 0   id         137735 non-null  object \n",
      " 1   user_id    137735 non-null  int64  \n",
      " 2   call_date  137735 non-null  object \n",
      " 3   duration   137735 non-null  float64\n",
      "dtypes: float64(1), int64(1), object(2)\n",
      "memory usage: 4.2+ MB\n",
      "None\n"
     ]
    }
   ],
   "source": [
    "# Imprime la información general/resumida sobre el DataFrame de las llamadas\n",
    "print(t2.info())"
   ]
  },
  {
   "cell_type": "code",
   "execution_count": 383,
   "metadata": {
    "id": "kuh1vlNB0q09"
   },
   "outputs": [
    {
     "name": "stdout",
     "output_type": "stream",
     "text": [
      "              id  user_id   call_date  duration\n",
      "97637   1348_383     1348  2018-10-27      3.91\n",
      "114079  1400_427     1400  2018-08-03     11.02\n",
      "125037  1440_553     1440  2018-12-07      4.15\n",
      "131446  1472_451     1472  2018-07-06      0.50\n",
      "71108   1252_602     1252  2018-06-14      5.74\n"
     ]
    }
   ],
   "source": [
    "# Imprime una muestra de datos para las llamadas\n",
    "print(t2.sample(n=5))"
   ]
  },
  {
   "cell_type": "markdown",
   "metadata": {
    "id": "DOAxYJSx0q09"
   },
   "source": [
    "[Describe lo que ves y observas en la información general y en la muestra de datos impresa para el precio de datos anterior. ¿Hay algún problema (tipos de datos no adecuados, datos ausentes, etc.) que pudieran necesitar investigación y cambios adicionales? ¿Cómo se puede arreglar?]\n",
    "\n",
    "Aqui nos conviene rendondear arriba los minutos ya que la empresa cobra por minutos cerrados es decir por minutos comenzados, enteros no fraccionarios."
   ]
  },
  {
   "cell_type": "markdown",
   "metadata": {
    "id": "S7hzxmbX0q0-"
   },
   "source": [
    "### Corregir los datos"
   ]
  },
  {
   "cell_type": "markdown",
   "metadata": {
    "id": "YxWyAjD20q0-"
   },
   "source": [
    "[Corrige los problemas obvios con los datos basándote en las observaciones iniciales.]"
   ]
  },
  {
   "cell_type": "code",
   "execution_count": 384,
   "metadata": {
    "id": "S2r8xA4f0q0-"
   },
   "outputs": [],
   "source": [
    "nueva_duration = []\n",
    "\n",
    "for dato in t2['duration']:\n",
    "    dato = round(dato)\n",
    "    nueva_duration.append(dato)\n",
    "\n",
    "t2['duration']=nueva_duration"
   ]
  },
  {
   "cell_type": "markdown",
   "metadata": {
    "id": "KrMgTrlG0q0_"
   },
   "source": [
    "### Enriquecer los datos"
   ]
  },
  {
   "cell_type": "markdown",
   "metadata": {
    "id": "a9MbmEvE0q0_"
   },
   "source": [
    "[Agrega factores adicionales a los datos si crees que pudieran ser útiles.]"
   ]
  },
  {
   "cell_type": "code",
   "execution_count": 385,
   "metadata": {
    "id": "iZ1avpA_0q0_"
   },
   "outputs": [
    {
     "name": "stdout",
     "output_type": "stream",
     "text": [
      "21481      5\n",
      "108031     0\n",
      "87755      3\n",
      "110140     8\n",
      "4773      11\n",
      "36137     16\n",
      "73524     13\n",
      "156       16\n",
      "72643      4\n",
      "137532    13\n",
      "Name: duration, dtype: int64\n"
     ]
    }
   ],
   "source": [
    "print(t2['duration'].sample(n=10))"
   ]
  },
  {
   "cell_type": "markdown",
   "metadata": {
    "id": "o7MeKCid0q08"
   },
   "source": [
    "## Mensajes"
   ]
  },
  {
   "cell_type": "code",
   "execution_count": 386,
   "metadata": {
    "id": "R-bYJpdV0q1A"
   },
   "outputs": [
    {
     "name": "stdout",
     "output_type": "stream",
     "text": [
      "<class 'pandas.core.frame.DataFrame'>\n",
      "RangeIndex: 76051 entries, 0 to 76050\n",
      "Data columns (total 3 columns):\n",
      " #   Column        Non-Null Count  Dtype \n",
      "---  ------        --------------  ----- \n",
      " 0   id            76051 non-null  object\n",
      " 1   user_id       76051 non-null  int64 \n",
      " 2   message_date  76051 non-null  object\n",
      "dtypes: int64(1), object(2)\n",
      "memory usage: 1.7+ MB\n",
      "None\n"
     ]
    }
   ],
   "source": [
    "# Imprime la información general/resumida sobre el DataFrame de los mensajes\n",
    "print(t3.info())"
   ]
  },
  {
   "cell_type": "code",
   "execution_count": 387,
   "metadata": {
    "id": "mCEl2iGE0q1A"
   },
   "outputs": [
    {
     "name": "stdout",
     "output_type": "stream",
     "text": [
      "             id  user_id message_date\n",
      "19951  1126_893     1126   2018-08-29\n",
      "63955   1408_80     1408   2018-03-09\n",
      "39564  1257_117     1257   2018-12-01\n",
      "49584  1328_542     1328   2018-08-07\n",
      "133    1001_258     1001   2018-12-01\n"
     ]
    }
   ],
   "source": [
    "# Imprime una muestra de datos para los mensajes\n",
    "print(t3.sample(n=5))"
   ]
  },
  {
   "cell_type": "markdown",
   "metadata": {
    "id": "04xDj7KH0q1A"
   },
   "source": [
    "[Describe lo que ves y observas en la información general y en la muestra de datos impresa para el precio de datos anterior. ¿Hay algún problema (tipos de datos no adecuados, datos ausentes, etc.) que pudieran necesitar investigación y cambios adicionales? ¿Cómo se puede arreglar?]"
   ]
  },
  {
   "cell_type": "markdown",
   "metadata": {
    "id": "Sprfak900q1B"
   },
   "source": [
    "### Corregir los datos"
   ]
  },
  {
   "cell_type": "markdown",
   "metadata": {
    "id": "eGw7d9j10q1B"
   },
   "source": [
    "[Corrige los problemas obvios con los datos basándote en las observaciones iniciales.]"
   ]
  },
  {
   "cell_type": "markdown",
   "metadata": {
    "id": "vsllvkoa0q1B"
   },
   "source": [
    "No veo conveniente modificar datos"
   ]
  },
  {
   "cell_type": "markdown",
   "metadata": {
    "id": "HvLid7iD0q1B"
   },
   "source": [
    "### Enriquecer los datos"
   ]
  },
  {
   "cell_type": "markdown",
   "metadata": {
    "id": "8nhPFKIe0q1C"
   },
   "source": [
    "[Agrega factores adicionales a los datos si crees que pudieran ser útiles.]"
   ]
  },
  {
   "cell_type": "markdown",
   "metadata": {
    "id": "zYEXZac10q1C"
   },
   "source": [
    "No veo conveniente modificar datos"
   ]
  },
  {
   "cell_type": "markdown",
   "metadata": {
    "id": "bStkaxn40q1C"
   },
   "source": [
    "## Internet"
   ]
  },
  {
   "cell_type": "code",
   "execution_count": 388,
   "metadata": {
    "id": "e-Uz5qyn0q1C"
   },
   "outputs": [
    {
     "name": "stdout",
     "output_type": "stream",
     "text": [
      "<class 'pandas.core.frame.DataFrame'>\n",
      "RangeIndex: 104825 entries, 0 to 104824\n",
      "Data columns (total 4 columns):\n",
      " #   Column        Non-Null Count   Dtype  \n",
      "---  ------        --------------   -----  \n",
      " 0   id            104825 non-null  object \n",
      " 1   user_id       104825 non-null  int64  \n",
      " 2   session_date  104825 non-null  object \n",
      " 3   mb_used       104825 non-null  float64\n",
      "dtypes: float64(1), int64(1), object(2)\n",
      "memory usage: 3.2+ MB\n",
      "None\n"
     ]
    }
   ],
   "source": [
    "# Imprime la información general/resumida sobre el DataFrame de internet\n",
    "print(t4.info())"
   ]
  },
  {
   "cell_type": "code",
   "execution_count": 389,
   "metadata": {
    "id": "9r3x_XLw0q1C"
   },
   "outputs": [
    {
     "name": "stdout",
     "output_type": "stream",
     "text": [
      "             id  user_id session_date  mb_used\n",
      "23773   1110_31     1110   2018-08-10   590.31\n",
      "39942   1181_10     1181   2018-07-21  1145.38\n",
      "83258  1389_144     1389   2018-09-28   419.81\n",
      "20113  1090_352     1090   2018-12-17   882.64\n",
      "87864  1406_181     1406   2018-07-23   618.00\n"
     ]
    }
   ],
   "source": [
    "# Imprime una muestra de datos para el tráfico de internet\n",
    "print(t4.sample(n=5))"
   ]
  },
  {
   "cell_type": "markdown",
   "metadata": {
    "id": "EzOG5ik30q1D"
   },
   "source": [
    "[Describe lo que ves y observas en la información general y en la muestra de datos impresa para el precio de datos anterior. ¿Hay algún problema (tipos de datos no adecuados, datos ausentes, etc.) que pudieran necesitar investigación y cambios adicionales? ¿Cómo se puede arreglar?]\n",
    "\n",
    "Aqui nos conviene redondear todos los valores de mb_used, para poder en un futuro dividirlos entre 1024 o en su caso ver los multiplos enteros para poder realizar y analizar el cobro de la tarifa"
   ]
  },
  {
   "cell_type": "markdown",
   "metadata": {
    "id": "yA0tkPFg0q1D"
   },
   "source": [
    "### Corregir los datos"
   ]
  },
  {
   "cell_type": "markdown",
   "metadata": {
    "id": "zlZMuIEK0q1D"
   },
   "source": [
    "[Corrige los problemas obvios con los datos basándote en las observaciones iniciales.]"
   ]
  },
  {
   "cell_type": "code",
   "execution_count": 390,
   "metadata": {
    "id": "zVeanzdd0q1E"
   },
   "outputs": [],
   "source": [
    "new_mb_used = []\n",
    "\n",
    "for datos in t4['mb_used']:\n",
    "    datos = round(datos)\n",
    "    new_mb_used.append(datos)\n",
    "\n",
    "t4['mb_used']=new_mb_used"
   ]
  },
  {
   "cell_type": "markdown",
   "metadata": {
    "id": "e8_mLF4a0q1E"
   },
   "source": [
    "### Enriquecer los datos"
   ]
  },
  {
   "cell_type": "markdown",
   "metadata": {
    "id": "xhNdn2tE0q1E"
   },
   "source": [
    "[Agrega factores adicionales a los datos si crees que pudieran ser útiles.]"
   ]
  },
  {
   "cell_type": "code",
   "execution_count": 391,
   "metadata": {
    "id": "ESiYPIEK0q1E"
   },
   "outputs": [
    {
     "name": "stdout",
     "output_type": "stream",
     "text": [
      "101068      0\n",
      "38232     300\n",
      "15629     137\n",
      "9084      364\n",
      "90575     433\n",
      "Name: mb_used, dtype: int64\n"
     ]
    }
   ],
   "source": [
    "print(t4['mb_used'].sample(n=5))"
   ]
  },
  {
   "cell_type": "markdown",
   "metadata": {
    "id": "3UA2cqIW0q1E"
   },
   "source": [
    "## Estudiar las condiciones de las tarifas"
   ]
  },
  {
   "cell_type": "markdown",
   "metadata": {
    "id": "T86Sqltq0q1F"
   },
   "source": [
    "[Es sumamente importante entender cómo funcionan las tarifas, cómo se les cobra a los usuarios en función de su plan de suscripción. Así que te sugerimos imprimir la información de la tarifa para ver una vez más sus condiciones.]"
   ]
  },
  {
   "cell_type": "code",
   "execution_count": 392,
   "metadata": {
    "id": "i409op8p0q1F"
   },
   "outputs": [
    {
     "name": "stdout",
     "output_type": "stream",
     "text": [
      "  plan_name  messages_included  mb_per_month_included  minutes_included  \\\n",
      "0      surf                 50                   15.0               500   \n",
      "1  ultimate               1000                   30.0              3000   \n",
      "\n",
      "   usd_monthly_pay  usd_per_gb  usd_per_message  usd_per_minute  \n",
      "0               20          10             0.03            0.03  \n",
      "1               70           7             0.01            0.01  \n"
     ]
    }
   ],
   "source": [
    "# Imprime las condiciones de la tarifa y asegúrate de que te quedan claras\n",
    "print(t5)\n"
   ]
  },
  {
   "cell_type": "markdown",
   "metadata": {
    "id": "hMR1tP5d0q1F"
   },
   "source": [
    "## Agregar datos por usuario\n",
    "\n",
    "[Ahora que los datos están limpios, agrega los datos por usuario y por periodo para que solo haya un registro por usuario y por periodo. Esto facilitará mucho el análisis posterior.]"
   ]
  },
  {
   "cell_type": "code",
   "execution_count": 393,
   "metadata": {
    "id": "A332cedB0q1G"
   },
   "outputs": [
    {
     "name": "stdout",
     "output_type": "stream",
     "text": [
      "   user_id  mes  total_llamadas\n",
      "0     1000   12              16\n",
      "1     1001    8              27\n",
      "2     1001    9              49\n",
      "3     1001   10              65\n",
      "4     1001   11              64\n"
     ]
    }
   ],
   "source": [
    "# Calcula el número de llamadas hechas por cada usuario al mes. Guarda el resultado.\n",
    "# tabla de llamadas(t2) contiene 137735 registros de llamadas\n",
    "\n",
    "Datos_por_usuario = []\n",
    "\n",
    "\n",
    "#converti las fechas a una nueva columna que solo me tenga los meses del año 2018\n",
    "t2['call_date'] = pd.to_datetime(t2['call_date'])\n",
    "meses = []\n",
    "for fecha in t2['call_date']:\n",
    "    meses.append(fecha.month)\n",
    "t2['mes'] = meses\n",
    "\n",
    "#Ahora vamos a sumar las llamadas totales por mes por cada usuario unico del dataset\n",
    "llamadas_por_usuario_mes = t2.groupby(['user_id', 'mes'])['id'].count().reset_index()\n",
    "llamadas_por_usuario_mes = llamadas_por_usuario_mes.rename(columns={'id': 'total_llamadas'})\n",
    "print(llamadas_por_usuario_mes.head())"
   ]
  },
  {
   "cell_type": "code",
   "execution_count": 394,
   "metadata": {
    "id": "aw2cmuql0q1G"
   },
   "outputs": [
    {
     "name": "stdout",
     "output_type": "stream",
     "text": [
      "   user_id  mes  total_minutos\n",
      "0     1000   12            117\n",
      "1     1001    8            173\n",
      "2     1001    9            297\n",
      "3     1001   10            374\n",
      "4     1001   11            404\n"
     ]
    }
   ],
   "source": [
    "# Calcula la cantidad de minutos usados por cada usuario al mes. Guarda el resultado.\n",
    "# tabla de llamadas(t2) contiene 137735 registros de llamadas\n",
    "#Ahora vamos a sumar los minutos totales por mes por cada usuario unico del dataset\n",
    "minutos_por_usuario_mes = t2.groupby(['user_id', 'mes'])['duration'].sum().reset_index()\n",
    "minutos_por_usuario_mes = minutos_por_usuario_mes.rename(columns={'duration': 'total_minutos'})\n",
    "print(minutos_por_usuario_mes.head())"
   ]
  },
  {
   "cell_type": "code",
   "execution_count": 395,
   "metadata": {
    "id": "CcQvNHn60q1G"
   },
   "outputs": [
    {
     "name": "stdout",
     "output_type": "stream",
     "text": [
      "   user_id  mes  total_mensajes\n",
      "0     1000   12              11\n",
      "1     1001   12             207\n",
      "2     1002   12              88\n",
      "3     1003   12              50\n",
      "4     1004   12             177\n"
     ]
    }
   ],
   "source": [
    "# Calcula el número de mensajes enviados por cada usuario al mes. Guarda el resultado.\n",
    "# tabla de mensajes(t3) contiene 76051 registros de mensajes\n",
    "#converti las fechas a una nueva columna que solo me tenga los meses del año 2018\n",
    "t3['message_date'] = pd.to_datetime(t3['message_date'])\n",
    "meses=[]\n",
    "for fechas in t3['message_date']:\n",
    "    meses.append(fecha.month)\n",
    "t3['mes'] = meses\n",
    "\n",
    "#Ahora vamos a sumar las llamadas totales por mes por cada usuario unico del dataset\n",
    "mensajes_por_usuario_mes = t3.groupby(['user_id', 'mes'])['id'].count().reset_index()\n",
    "mensajes_por_usuario_mes = mensajes_por_usuario_mes.rename(columns={'id': 'total_mensajes'})\n",
    "print(mensajes_por_usuario_mes.head())"
   ]
  },
  {
   "cell_type": "code",
   "execution_count": 396,
   "metadata": {
    "id": "H1AqN2eG0q1H"
   },
   "outputs": [
    {
     "name": "stdout",
     "output_type": "stream",
     "text": [
      "   user_id  mes  total_megabytes\n",
      "0     1000   12                5\n",
      "1     1001    8               25\n",
      "2     1001    9               53\n",
      "3     1001   10               56\n",
      "4     1001   11               51\n"
     ]
    }
   ],
   "source": [
    "# Calcula el volumen del tráfico de Internet usado por cada usuario al mes. Guarda el resultado.\n",
    "# tabla de internat(t4) contiene 104825 registros de sesiones WEB\n",
    "#convertir las fechas a una nueva columna que solo me tenga los meses del año 2018\n",
    "t4['session_date'] = pd.to_datetime(t4['session_date'])\n",
    "meses=[]\n",
    "for fechas in t4['session_date']:\n",
    "    meses.append(fechas.month)\n",
    "t4['mes'] = meses\n",
    "\n",
    "#Ahora vamos a sumar el volumen de datos totales por mes por cada usuario unico del dataset\n",
    "mb_por_usuario_mes = t4.groupby(['user_id', 'mes'])['id'].count().reset_index()\n",
    "mb_por_usuario_mes = mb_por_usuario_mes.rename(columns={'id': 'total_megabytes'})\n",
    "print(mb_por_usuario_mes.head())"
   ]
  },
  {
   "cell_type": "markdown",
   "metadata": {
    "id": "VDfYXnj80q1H"
   },
   "source": [
    "[Junta los datos agregados en un DataFrame para que haya un registro que represente lo que consumió un usuario único en un mes determinado.]"
   ]
  },
  {
   "cell_type": "code",
   "execution_count": 397,
   "metadata": {
    "id": "FW99ykyf0q1H"
   },
   "outputs": [
    {
     "name": "stdout",
     "output_type": "stream",
     "text": [
      "   user_id  mes  total_llamadas  total_mensajes  total_minutos  \\\n",
      "0     1000   12              16            11.0            117   \n",
      "1     1001    8              27             NaN            173   \n",
      "2     1001    9              49             NaN            297   \n",
      "3     1001   10              65             NaN            374   \n",
      "4     1001   11              64             NaN            404   \n",
      "\n",
      "   total_megabytes  \n",
      "0              5.0  \n",
      "1             25.0  \n",
      "2             53.0  \n",
      "3             56.0  \n",
      "4             51.0  \n"
     ]
    }
   ],
   "source": [
    "# Fusiona los datos de llamadas, minutos, mensajes e Internet con base en user_id y month\n",
    "datos_combinados = pd.merge(llamadas_por_usuario_mes,\n",
    "                            mensajes_por_usuario_mes,\n",
    "                            on=['user_id','mes'], how='left').merge(minutos_por_usuario_mes,\n",
    "                             on=['user_id','mes'], how='left').merge(mb_por_usuario_mes,on=['user_id','mes'],how='left')\n",
    "\n",
    "Datos_por_usuario.append(datos_combinados)\n",
    "print(Datos_por_usuario[0].head())"
   ]
  },
  {
   "cell_type": "code",
   "execution_count": 398,
   "metadata": {
    "id": "0dNOXHag0q1H"
   },
   "outputs": [
    {
     "name": "stdout",
     "output_type": "stream",
     "text": [
      "<class 'pandas.core.frame.DataFrame'>\n",
      "RangeIndex: 2258 entries, 0 to 2257\n",
      "Data columns (total 6 columns):\n",
      " #   Column           Non-Null Count  Dtype  \n",
      "---  ------           --------------  -----  \n",
      " 0   user_id          2258 non-null   int64  \n",
      " 1   mes              2258 non-null   int64  \n",
      " 2   total_llamadas   2258 non-null   int64  \n",
      " 3   total_mensajes   376 non-null    float64\n",
      " 4   total_minutos    2258 non-null   int64  \n",
      " 5   total_megabytes  2243 non-null   float64\n",
      "dtypes: float64(2), int64(4)\n",
      "memory usage: 106.0 KB\n"
     ]
    }
   ],
   "source": [
    "# Añade la información de la tarifa\n",
    "Datos_nuevos_por_ususario = []\n",
    "Datos_nuevos_por_ususario = pd.concat(Datos_por_usuario,ignore_index=True)\n",
    "Datos_nuevos_por_ususario.info()"
   ]
  },
  {
   "cell_type": "markdown",
   "metadata": {
    "id": "1IwGo4wg0q1I"
   },
   "source": [
    "[Calcula los ingresos mensuales por usuario (resta el límite del paquete gratuito del número total de llamadas, mensajes de texto y datos; multiplica el resultado por el valor del plan de llamadas; añade la tarifa mensual en función del plan de llamadas). Nota: Dadas las condiciones del plan, ¡esto podría no ser tan trivial como un par de líneas! Así que no pasa nada si dedicas algo de tiempo a ello.]"
   ]
  },
  {
   "cell_type": "code",
   "execution_count": 399,
   "metadata": {
    "id": "5FGCf_c60q1I"
   },
   "outputs": [
    {
     "data": {
      "text/html": [
       "<div>\n",
       "<style scoped>\n",
       "    .dataframe tbody tr th:only-of-type {\n",
       "        vertical-align: middle;\n",
       "    }\n",
       "\n",
       "    .dataframe tbody tr th {\n",
       "        vertical-align: top;\n",
       "    }\n",
       "\n",
       "    .dataframe thead th {\n",
       "        text-align: right;\n",
       "    }\n",
       "</style>\n",
       "<table border=\"1\" class=\"dataframe\">\n",
       "  <thead>\n",
       "    <tr style=\"text-align: right;\">\n",
       "      <th></th>\n",
       "      <th>user_id</th>\n",
       "      <th>mes</th>\n",
       "      <th>total_llamadas</th>\n",
       "      <th>total_mensajes</th>\n",
       "      <th>total_minutos</th>\n",
       "      <th>total_megabytes</th>\n",
       "    </tr>\n",
       "  </thead>\n",
       "  <tbody>\n",
       "    <tr>\n",
       "      <th>0</th>\n",
       "      <td>1000</td>\n",
       "      <td>12</td>\n",
       "      <td>16</td>\n",
       "      <td>11.0</td>\n",
       "      <td>117</td>\n",
       "      <td>5.0</td>\n",
       "    </tr>\n",
       "    <tr>\n",
       "      <th>1</th>\n",
       "      <td>1001</td>\n",
       "      <td>8</td>\n",
       "      <td>27</td>\n",
       "      <td>0.0</td>\n",
       "      <td>173</td>\n",
       "      <td>25.0</td>\n",
       "    </tr>\n",
       "    <tr>\n",
       "      <th>2</th>\n",
       "      <td>1001</td>\n",
       "      <td>9</td>\n",
       "      <td>49</td>\n",
       "      <td>0.0</td>\n",
       "      <td>297</td>\n",
       "      <td>53.0</td>\n",
       "    </tr>\n",
       "    <tr>\n",
       "      <th>3</th>\n",
       "      <td>1001</td>\n",
       "      <td>10</td>\n",
       "      <td>65</td>\n",
       "      <td>0.0</td>\n",
       "      <td>374</td>\n",
       "      <td>56.0</td>\n",
       "    </tr>\n",
       "    <tr>\n",
       "      <th>4</th>\n",
       "      <td>1001</td>\n",
       "      <td>11</td>\n",
       "      <td>64</td>\n",
       "      <td>0.0</td>\n",
       "      <td>404</td>\n",
       "      <td>51.0</td>\n",
       "    </tr>\n",
       "    <tr>\n",
       "      <th>...</th>\n",
       "      <td>...</td>\n",
       "      <td>...</td>\n",
       "      <td>...</td>\n",
       "      <td>...</td>\n",
       "      <td>...</td>\n",
       "      <td>...</td>\n",
       "    </tr>\n",
       "    <tr>\n",
       "      <th>2253</th>\n",
       "      <td>1498</td>\n",
       "      <td>12</td>\n",
       "      <td>39</td>\n",
       "      <td>0.0</td>\n",
       "      <td>326</td>\n",
       "      <td>65.0</td>\n",
       "    </tr>\n",
       "    <tr>\n",
       "      <th>2254</th>\n",
       "      <td>1499</td>\n",
       "      <td>9</td>\n",
       "      <td>41</td>\n",
       "      <td>0.0</td>\n",
       "      <td>328</td>\n",
       "      <td>45.0</td>\n",
       "    </tr>\n",
       "    <tr>\n",
       "      <th>2255</th>\n",
       "      <td>1499</td>\n",
       "      <td>10</td>\n",
       "      <td>53</td>\n",
       "      <td>0.0</td>\n",
       "      <td>361</td>\n",
       "      <td>61.0</td>\n",
       "    </tr>\n",
       "    <tr>\n",
       "      <th>2256</th>\n",
       "      <td>1499</td>\n",
       "      <td>11</td>\n",
       "      <td>45</td>\n",
       "      <td>0.0</td>\n",
       "      <td>287</td>\n",
       "      <td>49.0</td>\n",
       "    </tr>\n",
       "    <tr>\n",
       "      <th>2257</th>\n",
       "      <td>1499</td>\n",
       "      <td>12</td>\n",
       "      <td>65</td>\n",
       "      <td>0.0</td>\n",
       "      <td>463</td>\n",
       "      <td>65.0</td>\n",
       "    </tr>\n",
       "  </tbody>\n",
       "</table>\n",
       "<p>2258 rows × 6 columns</p>\n",
       "</div>"
      ],
      "text/plain": [
       "      user_id  mes  total_llamadas  total_mensajes  total_minutos  \\\n",
       "0        1000   12              16            11.0            117   \n",
       "1        1001    8              27             0.0            173   \n",
       "2        1001    9              49             0.0            297   \n",
       "3        1001   10              65             0.0            374   \n",
       "4        1001   11              64             0.0            404   \n",
       "...       ...  ...             ...             ...            ...   \n",
       "2253     1498   12              39             0.0            326   \n",
       "2254     1499    9              41             0.0            328   \n",
       "2255     1499   10              53             0.0            361   \n",
       "2256     1499   11              45             0.0            287   \n",
       "2257     1499   12              65             0.0            463   \n",
       "\n",
       "      total_megabytes  \n",
       "0                 5.0  \n",
       "1                25.0  \n",
       "2                53.0  \n",
       "3                56.0  \n",
       "4                51.0  \n",
       "...               ...  \n",
       "2253             65.0  \n",
       "2254             45.0  \n",
       "2255             61.0  \n",
       "2256             49.0  \n",
       "2257             65.0  \n",
       "\n",
       "[2258 rows x 6 columns]"
      ]
     },
     "execution_count": 399,
     "metadata": {},
     "output_type": "execute_result"
    }
   ],
   "source": [
    "# Calcula el ingreso mensual para cada usuario\n",
    "\n",
    "#Ordenamos datos por ususaerio unico, es decir solo tenemos 500 usuarios y lo validamos\n",
    "#Tenemos en cuenta que las tarifas son mensuales,e s decir se cobra por mes\n",
    "df_sum = Datos_nuevos_por_ususario.groupby([\"user_id\",\"mes\"], as_index=False).sum(numeric_only=True)\n",
    "\n",
    "df_sum\n"
   ]
  },
  {
   "cell_type": "markdown",
   "metadata": {},
   "source": [
    "Como vamos a identificar las tarifas por ususario es decir lo que cada usuario pago al mes por un plan celular:\n",
    "\n",
    "Ultimate: es tarifa ultimate solo si total de minutos es mayor a 500 pero menor o igual a 3000, o si total mensajes es mayor a 50 pero menor o igual a 1000, o si total megabytes es mayor a 15360 pero menor o igual a 30720\n",
    "\n",
    "Surf: es tarifa surf si total minutos es menor o igual a 500, o si total mensjaes es menor o igual a 50 o si total megabytes es menor o igual a 30720"
   ]
  },
  {
   "cell_type": "code",
   "execution_count": 400,
   "metadata": {},
   "outputs": [
    {
     "name": "stdout",
     "output_type": "stream",
     "text": [
      "tarifa\n",
      "surf        1386\n",
      "ultimate     872\n",
      "Name: count, dtype: int64\n"
     ]
    },
    {
     "data": {
      "text/html": [
       "<div>\n",
       "<style scoped>\n",
       "    .dataframe tbody tr th:only-of-type {\n",
       "        vertical-align: middle;\n",
       "    }\n",
       "\n",
       "    .dataframe tbody tr th {\n",
       "        vertical-align: top;\n",
       "    }\n",
       "\n",
       "    .dataframe thead th {\n",
       "        text-align: right;\n",
       "    }\n",
       "</style>\n",
       "<table border=\"1\" class=\"dataframe\">\n",
       "  <thead>\n",
       "    <tr style=\"text-align: right;\">\n",
       "      <th></th>\n",
       "      <th>user_id</th>\n",
       "      <th>mes</th>\n",
       "      <th>total_llamadas</th>\n",
       "      <th>total_mensajes</th>\n",
       "      <th>total_minutos</th>\n",
       "      <th>total_megabytes</th>\n",
       "      <th>tarifa</th>\n",
       "    </tr>\n",
       "  </thead>\n",
       "  <tbody>\n",
       "    <tr>\n",
       "      <th>0</th>\n",
       "      <td>1000</td>\n",
       "      <td>12</td>\n",
       "      <td>16</td>\n",
       "      <td>11.0</td>\n",
       "      <td>117</td>\n",
       "      <td>5.0</td>\n",
       "      <td>surf</td>\n",
       "    </tr>\n",
       "    <tr>\n",
       "      <th>1</th>\n",
       "      <td>1001</td>\n",
       "      <td>8</td>\n",
       "      <td>27</td>\n",
       "      <td>0.0</td>\n",
       "      <td>173</td>\n",
       "      <td>25.0</td>\n",
       "      <td>surf</td>\n",
       "    </tr>\n",
       "    <tr>\n",
       "      <th>2</th>\n",
       "      <td>1001</td>\n",
       "      <td>9</td>\n",
       "      <td>49</td>\n",
       "      <td>0.0</td>\n",
       "      <td>297</td>\n",
       "      <td>53.0</td>\n",
       "      <td>surf</td>\n",
       "    </tr>\n",
       "    <tr>\n",
       "      <th>3</th>\n",
       "      <td>1001</td>\n",
       "      <td>10</td>\n",
       "      <td>65</td>\n",
       "      <td>0.0</td>\n",
       "      <td>374</td>\n",
       "      <td>56.0</td>\n",
       "      <td>surf</td>\n",
       "    </tr>\n",
       "    <tr>\n",
       "      <th>4</th>\n",
       "      <td>1001</td>\n",
       "      <td>11</td>\n",
       "      <td>64</td>\n",
       "      <td>0.0</td>\n",
       "      <td>404</td>\n",
       "      <td>51.0</td>\n",
       "      <td>surf</td>\n",
       "    </tr>\n",
       "    <tr>\n",
       "      <th>...</th>\n",
       "      <td>...</td>\n",
       "      <td>...</td>\n",
       "      <td>...</td>\n",
       "      <td>...</td>\n",
       "      <td>...</td>\n",
       "      <td>...</td>\n",
       "      <td>...</td>\n",
       "    </tr>\n",
       "    <tr>\n",
       "      <th>2253</th>\n",
       "      <td>1498</td>\n",
       "      <td>12</td>\n",
       "      <td>39</td>\n",
       "      <td>0.0</td>\n",
       "      <td>326</td>\n",
       "      <td>65.0</td>\n",
       "      <td>surf</td>\n",
       "    </tr>\n",
       "    <tr>\n",
       "      <th>2254</th>\n",
       "      <td>1499</td>\n",
       "      <td>9</td>\n",
       "      <td>41</td>\n",
       "      <td>0.0</td>\n",
       "      <td>328</td>\n",
       "      <td>45.0</td>\n",
       "      <td>surf</td>\n",
       "    </tr>\n",
       "    <tr>\n",
       "      <th>2255</th>\n",
       "      <td>1499</td>\n",
       "      <td>10</td>\n",
       "      <td>53</td>\n",
       "      <td>0.0</td>\n",
       "      <td>361</td>\n",
       "      <td>61.0</td>\n",
       "      <td>surf</td>\n",
       "    </tr>\n",
       "    <tr>\n",
       "      <th>2256</th>\n",
       "      <td>1499</td>\n",
       "      <td>11</td>\n",
       "      <td>45</td>\n",
       "      <td>0.0</td>\n",
       "      <td>287</td>\n",
       "      <td>49.0</td>\n",
       "      <td>surf</td>\n",
       "    </tr>\n",
       "    <tr>\n",
       "      <th>2257</th>\n",
       "      <td>1499</td>\n",
       "      <td>12</td>\n",
       "      <td>65</td>\n",
       "      <td>0.0</td>\n",
       "      <td>463</td>\n",
       "      <td>65.0</td>\n",
       "      <td>surf</td>\n",
       "    </tr>\n",
       "  </tbody>\n",
       "</table>\n",
       "<p>2258 rows × 7 columns</p>\n",
       "</div>"
      ],
      "text/plain": [
       "      user_id  mes  total_llamadas  total_mensajes  total_minutos  \\\n",
       "0        1000   12              16            11.0            117   \n",
       "1        1001    8              27             0.0            173   \n",
       "2        1001    9              49             0.0            297   \n",
       "3        1001   10              65             0.0            374   \n",
       "4        1001   11              64             0.0            404   \n",
       "...       ...  ...             ...             ...            ...   \n",
       "2253     1498   12              39             0.0            326   \n",
       "2254     1499    9              41             0.0            328   \n",
       "2255     1499   10              53             0.0            361   \n",
       "2256     1499   11              45             0.0            287   \n",
       "2257     1499   12              65             0.0            463   \n",
       "\n",
       "      total_megabytes tarifa  \n",
       "0                 5.0   surf  \n",
       "1                25.0   surf  \n",
       "2                53.0   surf  \n",
       "3                56.0   surf  \n",
       "4                51.0   surf  \n",
       "...               ...    ...  \n",
       "2253             65.0   surf  \n",
       "2254             45.0   surf  \n",
       "2255             61.0   surf  \n",
       "2256             49.0   surf  \n",
       "2257             65.0   surf  \n",
       "\n",
       "[2258 rows x 7 columns]"
      ]
     },
     "execution_count": 400,
     "metadata": {},
     "output_type": "execute_result"
    }
   ],
   "source": [
    "# Inicializamos columna como OTRO para cubrir casos fuera de surf/ultimate\n",
    "df_sum[\"tarifa\"] = \"otro\"\n",
    "\n",
    "#SURF\n",
    "cond_surf = (\n",
    "    (df_sum[\"total_minutos\"] <= 500) |\n",
    "    (df_sum[\"total_mensajes\"] <= 50) |\n",
    "    (df_sum[\"total_megabytes\"] <= 15360)\n",
    ")\n",
    "\n",
    "df_sum.loc[cond_surf, \"tarifa\"] = \"surf\"\n",
    "\n",
    "#ULTIMATE\n",
    "cond_ultimate = (\n",
    "    ((df_sum[\"total_minutos\"] > 500) & (df_sum[\"total_minutos\"] < 3000)) |\n",
    "    ((df_sum[\"total_mensajes\"] > 50) & (df_sum[\"total_mensajes\"] < 1000)) |\n",
    "    ((df_sum[\"total_megabytes\"] > 15360) & (df_sum[\"total_megabytes\"] < 30720))\n",
    ")\n",
    "\n",
    "df_sum.loc[cond_ultimate, \"tarifa\"] = \"ultimate\"\n",
    "\n",
    "print(df_sum[\"tarifa\"].value_counts())\n",
    "\n",
    "df_sum\n"
   ]
  },
  {
   "cell_type": "markdown",
   "metadata": {},
   "source": [
    "Calculamos el total a pagar por usuario en cada mes de uso de plan telefonico y calculamos si hay excedentes"
   ]
  },
  {
   "cell_type": "code",
   "execution_count": 401,
   "metadata": {},
   "outputs": [
    {
     "name": "stdout",
     "output_type": "stream",
     "text": [
      "   user_id  mes  total_llamadas  total_mensajes  total_minutos  \\\n",
      "0     1000   12              16            11.0            117   \n",
      "1     1001    8              27             0.0            173   \n",
      "2     1001    9              49             0.0            297   \n",
      "3     1001   10              65             0.0            374   \n",
      "4     1001   11              64             0.0            404   \n",
      "5     1001   12              56           207.0            394   \n",
      "6     1002   10              11             0.0             53   \n",
      "7     1002   11              55             0.0            359   \n",
      "8     1002   12              47            88.0            362   \n",
      "9     1003   12             149            50.0           1040   \n",
      "\n",
      "   total_megabytes    tarifa  pago_mensual  \n",
      "0              5.0      surf          20.0  \n",
      "1             25.0      surf          20.0  \n",
      "2             53.0      surf          20.0  \n",
      "3             56.0      surf          20.0  \n",
      "4             51.0      surf          20.0  \n",
      "5             60.0  ultimate          70.0  \n",
      "6             21.0      surf          20.0  \n",
      "7             52.0      surf          20.0  \n",
      "8             51.0  ultimate          70.0  \n",
      "9             52.0  ultimate          70.0  \n"
     ]
    }
   ],
   "source": [
    "# Inicializamos columna pago_mensual en 0\n",
    "df_sum[\"pago_mensual\"] = 0.0\n",
    "\n",
    "for i, row in df_sum.iterrows():\n",
    "    tarifa = row[\"tarifa\"]\n",
    "    pago = 0.0\n",
    "\n",
    "    if tarifa == \"surf\":\n",
    "        pago = 20.0\n",
    "\n",
    "        # Mensajes\n",
    "        if row[\"total_mensajes\"] > 50:\n",
    "            pago += (row[\"total_mensajes\"] - 50) * 0.03\n",
    "\n",
    "        # Minutos\n",
    "        if row[\"total_minutos\"] > 500:\n",
    "            pago += (row[\"total_minutos\"] - 500) * 0.03\n",
    "\n",
    "        # Megabytes\n",
    "        if row[\"total_megabytes\"] > 15360:\n",
    "            excedente_mb = row[\"total_megabytes\"] - 15360\n",
    "            bloques_gb = (excedente_mb // 1024) + 1\n",
    "            pago += bloques_gb * 10\n",
    "\n",
    "    elif tarifa == \"ultimate\":\n",
    "        pago = 70.0\n",
    "\n",
    "        # Minutos\n",
    "        if row[\"total_minutos\"] > 3000:\n",
    "            pago += (row[\"total_minutos\"] - 3000) * 0.01\n",
    "\n",
    "        # Mensajes\n",
    "        if row[\"total_mensajes\"] > 1000:\n",
    "            pago += (row[\"total_mensajes\"] - 1000) * 0.01\n",
    "\n",
    "        # Megabytes\n",
    "        if row[\"total_megabytes\"] > 30720:\n",
    "            excedente_mb = row[\"total_megabytes\"] - 30720\n",
    "            bloques_gb = (excedente_mb // 1024) + 1\n",
    "            pago += bloques_gb * 7\n",
    "\n",
    "    df_sum.at[i, \"pago_mensual\"] = pago\n",
    "\n",
    "# Revisamos algunas filas\n",
    "print(df_sum.head(10))\n",
    "\n"
   ]
  },
  {
   "cell_type": "code",
   "execution_count": 402,
   "metadata": {},
   "outputs": [
    {
     "name": "stdout",
     "output_type": "stream",
     "text": [
      "Empty DataFrame\n",
      "Columns: [user_id, mes, total_llamadas, total_mensajes, total_minutos, total_megabytes, tarifa, pago_mensual]\n",
      "Index: []\n",
      "      user_id  mes  total_llamadas  total_mensajes  total_minutos  \\\n",
      "613      1132   12              93          1288.0            608   \n",
      "1460     1324   12             143          1175.0            986   \n",
      "1482     1328   12             117          1233.0            833   \n",
      "2136     1470   12              78          1056.0            563   \n",
      "\n",
      "      total_megabytes    tarifa  pago_mensual  \n",
      "613              34.0  ultimate         72.88  \n",
      "1460             33.0  ultimate         71.75  \n",
      "1482             50.0  ultimate         72.33  \n",
      "2136              0.0  ultimate         70.56  \n",
      "Empty DataFrame\n",
      "Columns: [user_id, mes, total_llamadas, total_mensajes, total_minutos, total_megabytes, tarifa, pago_mensual]\n",
      "Index: []\n"
     ]
    }
   ],
   "source": [
    "print(df_sum[(df_sum['pago_mensual'] > 20) & (df_sum['pago_mensual'] < 70)])\n",
    "print(df_sum[df_sum['pago_mensual']>70])\n",
    "print(df_sum[df_sum['pago_mensual'].isnull()])"
   ]
  },
  {
   "cell_type": "markdown",
   "metadata": {},
   "source": [
    "Comprobamos que los caclulos de tarifas hagan sentido"
   ]
  },
  {
   "cell_type": "code",
   "execution_count": 403,
   "metadata": {},
   "outputs": [
    {
     "data": {
      "text/html": [
       "<div>\n",
       "<style scoped>\n",
       "    .dataframe tbody tr th:only-of-type {\n",
       "        vertical-align: middle;\n",
       "    }\n",
       "\n",
       "    .dataframe tbody tr th {\n",
       "        vertical-align: top;\n",
       "    }\n",
       "\n",
       "    .dataframe thead th {\n",
       "        text-align: right;\n",
       "    }\n",
       "</style>\n",
       "<table border=\"1\" class=\"dataframe\">\n",
       "  <thead>\n",
       "    <tr style=\"text-align: right;\">\n",
       "      <th></th>\n",
       "      <th>user_id</th>\n",
       "      <th>mes</th>\n",
       "      <th>total_llamadas</th>\n",
       "      <th>total_mensajes</th>\n",
       "      <th>total_minutos</th>\n",
       "      <th>total_megabytes</th>\n",
       "      <th>tarifa</th>\n",
       "      <th>pago_mensual</th>\n",
       "    </tr>\n",
       "  </thead>\n",
       "  <tbody>\n",
       "    <tr>\n",
       "      <th>0</th>\n",
       "      <td>1000</td>\n",
       "      <td>12</td>\n",
       "      <td>16</td>\n",
       "      <td>11.0</td>\n",
       "      <td>117</td>\n",
       "      <td>5.0</td>\n",
       "      <td>surf</td>\n",
       "      <td>20.0</td>\n",
       "    </tr>\n",
       "    <tr>\n",
       "      <th>1</th>\n",
       "      <td>1001</td>\n",
       "      <td>8</td>\n",
       "      <td>27</td>\n",
       "      <td>0.0</td>\n",
       "      <td>173</td>\n",
       "      <td>25.0</td>\n",
       "      <td>surf</td>\n",
       "      <td>20.0</td>\n",
       "    </tr>\n",
       "    <tr>\n",
       "      <th>2</th>\n",
       "      <td>1001</td>\n",
       "      <td>9</td>\n",
       "      <td>49</td>\n",
       "      <td>0.0</td>\n",
       "      <td>297</td>\n",
       "      <td>53.0</td>\n",
       "      <td>surf</td>\n",
       "      <td>20.0</td>\n",
       "    </tr>\n",
       "    <tr>\n",
       "      <th>3</th>\n",
       "      <td>1001</td>\n",
       "      <td>10</td>\n",
       "      <td>65</td>\n",
       "      <td>0.0</td>\n",
       "      <td>374</td>\n",
       "      <td>56.0</td>\n",
       "      <td>surf</td>\n",
       "      <td>20.0</td>\n",
       "    </tr>\n",
       "    <tr>\n",
       "      <th>4</th>\n",
       "      <td>1001</td>\n",
       "      <td>11</td>\n",
       "      <td>64</td>\n",
       "      <td>0.0</td>\n",
       "      <td>404</td>\n",
       "      <td>51.0</td>\n",
       "      <td>surf</td>\n",
       "      <td>20.0</td>\n",
       "    </tr>\n",
       "    <tr>\n",
       "      <th>...</th>\n",
       "      <td>...</td>\n",
       "      <td>...</td>\n",
       "      <td>...</td>\n",
       "      <td>...</td>\n",
       "      <td>...</td>\n",
       "      <td>...</td>\n",
       "      <td>...</td>\n",
       "      <td>...</td>\n",
       "    </tr>\n",
       "    <tr>\n",
       "      <th>2253</th>\n",
       "      <td>1498</td>\n",
       "      <td>12</td>\n",
       "      <td>39</td>\n",
       "      <td>0.0</td>\n",
       "      <td>326</td>\n",
       "      <td>65.0</td>\n",
       "      <td>surf</td>\n",
       "      <td>20.0</td>\n",
       "    </tr>\n",
       "    <tr>\n",
       "      <th>2254</th>\n",
       "      <td>1499</td>\n",
       "      <td>9</td>\n",
       "      <td>41</td>\n",
       "      <td>0.0</td>\n",
       "      <td>328</td>\n",
       "      <td>45.0</td>\n",
       "      <td>surf</td>\n",
       "      <td>20.0</td>\n",
       "    </tr>\n",
       "    <tr>\n",
       "      <th>2255</th>\n",
       "      <td>1499</td>\n",
       "      <td>10</td>\n",
       "      <td>53</td>\n",
       "      <td>0.0</td>\n",
       "      <td>361</td>\n",
       "      <td>61.0</td>\n",
       "      <td>surf</td>\n",
       "      <td>20.0</td>\n",
       "    </tr>\n",
       "    <tr>\n",
       "      <th>2256</th>\n",
       "      <td>1499</td>\n",
       "      <td>11</td>\n",
       "      <td>45</td>\n",
       "      <td>0.0</td>\n",
       "      <td>287</td>\n",
       "      <td>49.0</td>\n",
       "      <td>surf</td>\n",
       "      <td>20.0</td>\n",
       "    </tr>\n",
       "    <tr>\n",
       "      <th>2257</th>\n",
       "      <td>1499</td>\n",
       "      <td>12</td>\n",
       "      <td>65</td>\n",
       "      <td>0.0</td>\n",
       "      <td>463</td>\n",
       "      <td>65.0</td>\n",
       "      <td>surf</td>\n",
       "      <td>20.0</td>\n",
       "    </tr>\n",
       "  </tbody>\n",
       "</table>\n",
       "<p>2258 rows × 8 columns</p>\n",
       "</div>"
      ],
      "text/plain": [
       "      user_id  mes  total_llamadas  total_mensajes  total_minutos  \\\n",
       "0        1000   12              16            11.0            117   \n",
       "1        1001    8              27             0.0            173   \n",
       "2        1001    9              49             0.0            297   \n",
       "3        1001   10              65             0.0            374   \n",
       "4        1001   11              64             0.0            404   \n",
       "...       ...  ...             ...             ...            ...   \n",
       "2253     1498   12              39             0.0            326   \n",
       "2254     1499    9              41             0.0            328   \n",
       "2255     1499   10              53             0.0            361   \n",
       "2256     1499   11              45             0.0            287   \n",
       "2257     1499   12              65             0.0            463   \n",
       "\n",
       "      total_megabytes tarifa  pago_mensual  \n",
       "0                 5.0   surf          20.0  \n",
       "1                25.0   surf          20.0  \n",
       "2                53.0   surf          20.0  \n",
       "3                56.0   surf          20.0  \n",
       "4                51.0   surf          20.0  \n",
       "...               ...    ...           ...  \n",
       "2253             65.0   surf          20.0  \n",
       "2254             45.0   surf          20.0  \n",
       "2255             61.0   surf          20.0  \n",
       "2256             49.0   surf          20.0  \n",
       "2257             65.0   surf          20.0  \n",
       "\n",
       "[2258 rows x 8 columns]"
      ]
     },
     "execution_count": 403,
     "metadata": {},
     "output_type": "execute_result"
    }
   ],
   "source": [
    "df_sum"
   ]
  },
  {
   "cell_type": "markdown",
   "metadata": {
    "id": "-jtyHzJb0q1I"
   },
   "source": [
    "## Estudia el comportamiento de usuario"
   ]
  },
  {
   "cell_type": "markdown",
   "metadata": {
    "id": "AxU3Y0N70q1J"
   },
   "source": [
    "[Calcula algunas estadísticas descriptivas para los datos agregados y fusionados que nos sean útiles y que muestren un panorama general captado por los datos. Dibuja gráficos útiles para facilitar la comprensión. Dado que la tarea principal es comparar las tarifas y decidir cuál es más rentable, las estadísticas y gráficas deben calcularse por tarifa.]\n",
    "\n",
    "[En los comentarios hallarás pistas relevantes para las llamadas, pero no las hay para los mensajes e Internet. Sin embargo, el principio del estudio estadístico que se aplica para ellos es el mismo que para las llamadas.]"
   ]
  },
  {
   "cell_type": "markdown",
   "metadata": {
    "id": "vtW4CJEe0q1J"
   },
   "source": [
    "### Llamadas"
   ]
  },
  {
   "cell_type": "code",
   "execution_count": 404,
   "metadata": {
    "id": "Jf5v5--k0q1J"
   },
   "outputs": [
    {
     "data": {
      "image/png": "[encoded data removed]",
      "text/plain": [
       "<Figure size 1200x600 with 1 Axes>"
      ]
     },
     "metadata": {},
     "output_type": "display_data"
    }
   ],
   "source": [
    "# Compara la duración promedio de llamadas por cada plan y por cada mes.\n",
    "# Traza un gráfico de barras para visualizarla.\n",
    "# Agrupar por mes y tarifa, calculando la duración promedio de llamadas\n",
    "promedio_llamadas = df_sum.groupby(['mes', 'tarifa'])['total_minutos'].mean().reset_index()\n",
    "promedio_pivot = promedio_llamadas.pivot(index='mes', columns='tarifa', values='total_minutos')\n",
    "\n",
    "\n",
    "ax = promedio_pivot.plot(kind='bar', figsize=(12,6))\n",
    "plt.title('Duración promedio de llamadas por mes y tarifa')\n",
    "plt.xlabel('Mes')\n",
    "plt.ylabel('Duración promedio (minutos)')\n",
    "plt.xticks(rotation=0)\n",
    "plt.grid(axis='y', linestyle='--', alpha=0.7)\n",
    "plt.legend(title='Tarifa')\n",
    "\n",
    "\n",
    "for p in ax.patches:\n",
    "    height = p.get_height()\n",
    "    if not np.isnan(height):\n",
    "        ax.annotate(f'{height:.1f}', (p.get_x() + p.get_width() / 2, height),\n",
    "                    ha='center', va='bottom', fontsize=9)\n",
    "\n",
    "plt.show()\n"
   ]
  },
  {
   "cell_type": "code",
   "execution_count": 405,
   "metadata": {
    "id": "QoLqW1S_0q1J"
   },
   "outputs": [
    {
     "data": {
      "image/png": "[encoded data removed]",
      "text/plain": [
       "<Figure size 1000x600 with 1 Axes>"
      ]
     },
     "metadata": {},
     "output_type": "display_data"
    }
   ],
   "source": [
    "# Compara el número de minutos mensuales que necesitan los usuarios de cada plan.\n",
    "# Traza un histograma.\n",
    "\n",
    "colores = {'surf': 'blue', 'ultimate': 'orange'}\n",
    "\n",
    "plt.figure(figsize=(10,6))\n",
    "\n",
    "\n",
    "for tarifa, color in colores.items():\n",
    "    datos = df_sum[df_sum['tarifa'] == tarifa]['total_minutos']\n",
    "    plt.hist(datos, bins=30, alpha=0.6, label=tarifa, color=color)\n",
    "\n",
    "plt.title('Distribución de minutos mensuales por plan')\n",
    "plt.xlabel('Total minutos por mes')\n",
    "plt.ylabel('Cantidad de usuarios')\n",
    "plt.legend(title='Tarifa')\n",
    "plt.grid(axis='y', linestyle='--', alpha=0.7)\n",
    "plt.show()\n",
    "\n"
   ]
  },
  {
   "cell_type": "markdown",
   "metadata": {
    "id": "bLS9T8OH0q1K"
   },
   "source": [
    "[Calcula la media y la variable de la duración de las llamadas para averiguar si los usuarios de los distintos planes se comportan de forma diferente al realizar sus llamadas.]"
   ]
  },
  {
   "cell_type": "code",
   "execution_count": 406,
   "metadata": {
    "id": "oSndbAnt0q1K"
   },
   "outputs": [
    {
     "name": "stdout",
     "output_type": "stream",
     "text": [
      "Media de duración mensual de llamadas por plan:\n",
      "tarifa\n",
      "surf        296.502165\n",
      "ultimate    593.982798\n",
      "Name: total_minutos, dtype: float64\n",
      "\n",
      "Varianza de duración mensual de llamadas por plan:\n",
      "tarifa\n",
      "surf        18581.617685\n",
      "ultimate    40551.874560\n",
      "Name: total_minutos, dtype: float64\n"
     ]
    }
   ],
   "source": [
    "# Calcula la media y la varianza de la duración mensual de llamadas.\n",
    "media_llamadas = df_sum.groupby('tarifa')['total_minutos'].mean()\n",
    "print(\"Media de duración mensual de llamadas por plan:\")\n",
    "print(media_llamadas)\n",
    "\n",
    "varianza_llamadas = df_sum.groupby('tarifa')['total_minutos'].var()\n",
    "print(\"\\nVarianza de duración mensual de llamadas por plan:\")\n",
    "print(varianza_llamadas)\n"
   ]
  },
  {
   "cell_type": "code",
   "execution_count": 407,
   "metadata": {
    "id": "nZzoRUKc0q1K"
   },
   "outputs": [
    {
     "name": "stderr",
     "output_type": "stream",
     "text": [
      "C:\\Users\\jonat\\AppData\\Local\\Temp\\ipykernel_14724\\1992201849.py:5: FutureWarning: \n",
      "\n",
      "Passing `palette` without assigning `hue` is deprecated and will be removed in v0.14.0. Assign the `x` variable to `hue` and set `legend=False` for the same effect.\n",
      "\n",
      "  sns.boxplot(x='tarifa', y='total_minutos', data=df_sum,\n"
     ]
    },
    {
     "data": {
      "image/png": "[encoded data removed]",
      "text/plain": [
       "<Figure size 1000x600 with 1 Axes>"
      ]
     },
     "metadata": {},
     "output_type": "display_data"
    }
   ],
   "source": [
    "# Traza un diagrama de caja para visualizar la distribución de la duración mensual de llamadas\n",
    "plt.figure(figsize=(10,6))\n",
    "\n",
    "\n",
    "sns.boxplot(x='tarifa', y='total_minutos', data=df_sum,\n",
    "            palette={'surf':'blue', 'ultimate':'orange'})\n",
    "\n",
    "plt.title('Distribución mensual de duración de llamadas por plan')\n",
    "plt.xlabel('Plan (tarifa)')\n",
    "plt.ylabel('Duración total de llamadas por mes (minutos)')\n",
    "plt.grid(axis='y', linestyle='--', alpha=0.7)\n",
    "\n",
    "plt.show()\n"
   ]
  },
  {
   "cell_type": "markdown",
   "metadata": {
    "id": "r627zBO50q1K"
   },
   "source": [
    "[Elabora las conclusiones sobre el comportamiento de los usuarios con respecto a las llamadas. ¿Su comportamiento varía en función del plan?]\n",
    "\n",
    "Conclusiones: En la tarifa Surf, todos los ususariuos suelen comportarse de manera uniforme, lo que quiere decir que la tarifa y los rangos de surf, siempre tienen un rang de 200 a 400 con una media de 300 aprox, y un comportamiento mas uniforme, contrario a los ususario de tariifa ultimate, empezando por una media media cercaana a 600 minutos, y tiene una mayor dispersion, ahora aqui tambine observamos comportamientos atipicos, lo que quiere decir que si hay extremos, tanto conusmos altos como consumos bajos es decir un comportamiento no regular"
   ]
  },
  {
   "cell_type": "markdown",
   "metadata": {
    "id": "8idKy8Wh0q1L"
   },
   "source": [
    "### Mensajes"
   ]
  },
  {
   "cell_type": "code",
   "execution_count": 408,
   "metadata": {
    "id": "NXLxiTit0q1L"
   },
   "outputs": [
    {
     "data": {
      "image/png": "[encoded data removed]",
      "text/plain": [
       "<Figure size 1200x600 with 1 Axes>"
      ]
     },
     "metadata": {},
     "output_type": "display_data"
    }
   ],
   "source": [
    "# Comprara el número de mensajes que tienden a enviar cada mes los usuarios de cada plan\n",
    "# Calcular el promedio de mensajes por mes y tarifa\n",
    "promedio_mensajes = df_sum.groupby(['mes', 'tarifa'])['total_mensajes'].mean().reset_index()\n",
    "\n",
    "promedio_pivot = promedio_mensajes.pivot(index='mes', columns='tarifa', values='total_mensajes')\n",
    "\n",
    "\n",
    "ax = promedio_pivot.plot(kind='bar', figsize=(12,6))\n",
    "plt.title('Número promedio de mensajes por mes y tarifa')\n",
    "plt.xlabel('Mes')\n",
    "plt.ylabel('Promedio de mensajes')\n",
    "plt.xticks(rotation=0)\n",
    "plt.grid(axis='y', linestyle='--', alpha=0.7)\n",
    "plt.legend(title='Tarifa')\n",
    "\n",
    "\n",
    "for p in ax.patches:\n",
    "    height = p.get_height()\n",
    "    if not np.isnan(height):\n",
    "        ax.annotate(f'{height:.1f}', \n",
    "                    (p.get_x() + p.get_width() / 2, height), \n",
    "                    ha='center', va='bottom', fontsize=9)\n",
    "\n",
    "plt.show()\n",
    "\n"
   ]
  },
  {
   "cell_type": "code",
   "execution_count": 409,
   "metadata": {
    "id": "GRI_R7xF0q1L"
   },
   "outputs": [
    {
     "data": {
      "image/png": "[encoded data removed]",
      "text/plain": [
       "<Figure size 1200x600 with 1 Axes>"
      ]
     },
     "metadata": {},
     "output_type": "display_data"
    }
   ],
   "source": [
    "# Compara la cantidad de tráfico de Internet consumido por usuarios por plan\n",
    "# Calcular el promedio de consumo de Internet por mes y tarifa\n",
    "promedio_datos = df_sum.groupby(['mes', 'tarifa'])['total_megabytes'].mean().reset_index()\n",
    "\n",
    "\n",
    "promedio_pivot = promedio_datos.pivot(index='mes', columns='tarifa', values='total_megabytes')\n",
    "\n",
    "\n",
    "ax = promedio_pivot.plot(kind='bar', figsize=(12,6))\n",
    "plt.title('Promedio de consumo de Internet por mes y tarifa')\n",
    "plt.xlabel('Mes')\n",
    "plt.ylabel('Promedio de MB consumidos')\n",
    "plt.xticks(rotation=0)\n",
    "plt.grid(axis='y', linestyle='--', alpha=0.7)\n",
    "plt.legend(title='Tarifa')\n",
    "\n",
    "\n",
    "for p in ax.patches:\n",
    "    height = p.get_height()\n",
    "    if not np.isnan(height):\n",
    "        ax.annotate(f'{height:.1f}', \n",
    "                    (p.get_x() + p.get_width() / 2, height), \n",
    "                    ha='center', va='bottom', fontsize=9)\n",
    "\n",
    "plt.show()\n",
    "\n"
   ]
  },
  {
   "cell_type": "markdown",
   "metadata": {
    "id": "390SSL480q1M"
   },
   "source": [
    "[Elabora las conclusiones sobre el comportamiento de los usuarios con respecto a los mensajes. ¿Su comportamiento varía en función del plan?]\n",
    "\n",
    "No el comportamiento no varia respecto al plan, unicamente la cantidad de mensajes por lo que ets diseñado el pla, caso opuesto a internet"
   ]
  },
  {
   "cell_type": "markdown",
   "metadata": {
    "id": "42YSypXz0q1M"
   },
   "source": [
    "### Internet"
   ]
  },
  {
   "cell_type": "code",
   "execution_count": 410,
   "metadata": {
    "id": "lSuKPtjh0q1M"
   },
   "outputs": [
    {
     "data": {
      "image/png": "[encoded data removed]",
      "text/plain": [
       "<Figure size 1200x600 with 1 Axes>"
      ]
     },
     "metadata": {},
     "output_type": "display_data"
    }
   ],
   "source": [
    "plt.figure(figsize=(12,6))\n",
    "sns.boxplot(x='mes', y='total_megabytes', hue='tarifa', data=df_sum)\n",
    "plt.title('Distribución del consumo de Internet por mes y tarifa')\n",
    "plt.xlabel('Mes')\n",
    "plt.ylabel('MB consumidos')\n",
    "plt.grid(axis='y', linestyle='--', alpha=0.7)\n",
    "plt.legend(title='Tarifa')\n",
    "plt.show()\n"
   ]
  },
  {
   "cell_type": "markdown",
   "metadata": {},
   "source": [
    "Los ususarios del plna surf tienen un rango de consumo mas amplio contra los usuarios de ultimate, en diferentes meses, aqui se logra observar como la tendencia a consumir cada mes mas en ciertos meses por los usuarios"
   ]
  },
  {
   "cell_type": "markdown",
   "metadata": {
    "id": "UN9zwuMP0q1N"
   },
   "source": [
    "[Elabora las conclusiones sobre cómo los usuarios tienden a consumir el tráfico de Internet. ¿Su comportamiento varía en función del plan?]\n",
    "La mayoría de los usuarios del plan ultimate consumen más datos en promedio, pero surf tiene más variabilidad y algunos usuarios con consumos extremadamente bajos o altos."
   ]
  },
  {
   "cell_type": "markdown",
   "metadata": {
    "id": "tCijq3260q1N"
   },
   "source": [
    "## Ingreso"
   ]
  },
  {
   "cell_type": "markdown",
   "metadata": {
    "id": "9nq5IAcy0q1O"
   },
   "source": [
    "[Del mismo modo que has estudiado el comportamiento de los usuarios, describe estadísticamente los ingresos de los planes.]"
   ]
  },
  {
   "cell_type": "code",
   "execution_count": 411,
   "metadata": {
    "id": "tz-dq_V00q1O"
   },
   "outputs": [
    {
     "data": {
      "text/html": [
       "<div>\n",
       "<style scoped>\n",
       "    .dataframe tbody tr th:only-of-type {\n",
       "        vertical-align: middle;\n",
       "    }\n",
       "\n",
       "    .dataframe tbody tr th {\n",
       "        vertical-align: top;\n",
       "    }\n",
       "\n",
       "    .dataframe thead th {\n",
       "        text-align: right;\n",
       "    }\n",
       "</style>\n",
       "<table border=\"1\" class=\"dataframe\">\n",
       "  <thead>\n",
       "    <tr style=\"text-align: right;\">\n",
       "      <th></th>\n",
       "      <th>tarifa</th>\n",
       "      <th>pago_mensual</th>\n",
       "    </tr>\n",
       "  </thead>\n",
       "  <tbody>\n",
       "    <tr>\n",
       "      <th>0</th>\n",
       "      <td>surf</td>\n",
       "      <td>20.000000</td>\n",
       "    </tr>\n",
       "    <tr>\n",
       "      <th>1</th>\n",
       "      <td>ultimate</td>\n",
       "      <td>70.008624</td>\n",
       "    </tr>\n",
       "  </tbody>\n",
       "</table>\n",
       "</div>"
      ],
      "text/plain": [
       "     tarifa  pago_mensual\n",
       "0      surf     20.000000\n",
       "1  ultimate     70.008624"
      ]
     },
     "execution_count": 411,
     "metadata": {},
     "output_type": "execute_result"
    }
   ],
   "source": [
    "promedio_pago = df_sum.groupby('tarifa')['pago_mensual'].mean().reset_index()\n",
    "promedio_pago\n"
   ]
  },
  {
   "cell_type": "code",
   "execution_count": 412,
   "metadata": {
    "id": "0Y1v8ZUz0q1P"
   },
   "outputs": [
    {
     "data": {
      "image/png": "[encoded data removed]",
      "text/plain": [
       "<Figure size 800x500 with 1 Axes>"
      ]
     },
     "metadata": {},
     "output_type": "display_data"
    }
   ],
   "source": [
    "ax = promedio_pago.plot(x='tarifa', y='pago_mensual', kind='bar', figsize=(8,5), legend=False)\n",
    "plt.title('Promedio de pago mensual por tarifa')\n",
    "plt.xlabel('Tarifa')\n",
    "plt.ylabel('Pago promedio ($)')\n",
    "plt.grid(axis='y', linestyle='--', alpha=0.7)\n",
    "\n",
    "for p in ax.patches:\n",
    "    height = p.get_height()\n",
    "    ax.annotate(f'{height:.2f}', (p.get_x() + p.get_width()/2, height),\n",
    "                ha='center', va='bottom', fontsize=9)\n",
    "\n",
    "plt.show()\n"
   ]
  },
  {
   "cell_type": "code",
   "execution_count": 413,
   "metadata": {
    "id": "bYmwxyVh0q1P"
   },
   "outputs": [
    {
     "data": {
      "image/png": "[encoded data removed]",
      "text/plain": [
       "<Figure size 1000x600 with 1 Axes>"
      ]
     },
     "metadata": {},
     "output_type": "display_data"
    }
   ],
   "source": [
    "plt.figure(figsize=(10,6))\n",
    "sns.boxplot(x='tarifa', y='pago_mensual', data=df_sum)\n",
    "plt.title('Distribución del pago mensual por tarifa')\n",
    "plt.xlabel('Tarifa')\n",
    "plt.ylabel('Pago mensual ($)')\n",
    "plt.grid(axis='y', linestyle='--', alpha=0.7)\n",
    "plt.show()\n"
   ]
  },
  {
   "cell_type": "markdown",
   "metadata": {
    "id": "KAFidcXZ0q1P"
   },
   "source": [
    "[Elabora las conclusiones sobre cómo difiere el ingreso entre los planes.]\n",
    "\n",
    "Por lo general, es raro el ususario al que se le cobre una tarifa o un extra por exceder los rangos de su plan, por lo que lo singresos son siempre fijos tanto 20 como 70"
   ]
  },
  {
   "cell_type": "markdown",
   "metadata": {
    "id": "ajJ7VKeI0q1Q"
   },
   "source": [
    "## Prueba las hipótesis estadísticas"
   ]
  },
  {
   "cell_type": "markdown",
   "metadata": {
    "id": "AdXAZ-yL0q1Q"
   },
   "source": [
    "[Prueba la hipótesis de que son diferentes los ingresos promedio procedentes de los usuarios de los planes de llamada Ultimate y Surf.]"
   ]
  },
  {
   "cell_type": "markdown",
   "metadata": {
    "id": "IQwa_hsh0q1Q"
   },
   "source": [
    "[Elabora las hipótesis nula y alternativa, escoge la prueba estadística, determina el valor alfa.]"
   ]
  },
  {
   "cell_type": "code",
   "execution_count": null,
   "metadata": {
    "id": "nFoPNlPq0q1R"
   },
   "outputs": [
    {
     "name": "stdout",
     "output_type": "stream",
     "text": [
      "Media Surf: 20.0\n",
      "Media Ultimate: 70.00862385321102\n",
      "valor-p: 0.0\n",
      "Rechazamos la hipótesis nula: los ingresos de Ultimate son mayores.\n"
     ]
    },
    {
     "name": "stderr",
     "output_type": "stream",
     "text": [
      "C:\\Users\\jonat\\AppData\\Local\\Packages\\PythonSoftwareFoundation.Python.3.11_qbz5n2kfra8p0\\LocalCache\\local-packages\\Python311\\site-packages\\scipy\\stats\\_axis_nan_policy.py:579: RuntimeWarning: Precision loss occurred in moment calculation due to catastrophic cancellation. This occurs when the data are nearly identical. Results may be unreliable.\n",
      "  res = hypotest_fun_out(*samples, **kwds)\n"
     ]
    }
   ],
   "source": [
    "# Prueba las hipótesis\n",
    "# El ingreso promedio de Ultimate = ingreso promedio de Surf\n",
    "# El ingreso promedio de Ultimate ≠ ingreso promedio de Surf\n",
    "surf = df_sum.loc[df_sum['tarifa'] == 'surf', 'pago_mensual']\n",
    "ultimate = df_sum.loc[df_sum['tarifa'] == 'ultimate', 'pago_mensual']\n",
    "\n",
    "print(\"Media Surf:\", surf.mean())\n",
    "print(\"Media Ultimate:\", ultimate.mean())\n",
    "\n",
    "alpha = 0.05  \n",
    "\n",
    "results = st.ttest_ind(surf, ultimate, equal_var=False) \n",
    "\n",
    "print(\"valor-p:\", results.pvalue/2) \n",
    "\n",
    "\n",
    "if (results.pvalue/2 < alpha) and (np.mean(ultimate) > np.mean(surf)):\n",
    "    print(\"Rechazamos la hipótesis nula: los ingresos de Ultimate son mayores.\")\n",
    "else:\n",
    "    print(\"No podemos rechazar la hipótesis nula.\")\n",
    "\n"
   ]
  },
  {
   "cell_type": "markdown",
   "metadata": {
    "id": "tCcAruM60q1R"
   },
   "source": [
    "[Prueba la hipótesis de que el ingreso promedio de los usuarios del área NY-NJ es diferente al de los usuarios de otras regiones.]"
   ]
  },
  {
   "cell_type": "markdown",
   "metadata": {
    "id": "LsBgitqj0q1R"
   },
   "source": [
    "[Elabora las hipótesis nula y alternativa, escoge la prueba estadística, determina el valor alfa.]"
   ]
  },
  {
   "cell_type": "code",
   "execution_count": 418,
   "metadata": {
    "id": "Cqcj7wrZ0q1S"
   },
   "outputs": [
    {
     "name": "stdout",
     "output_type": "stream",
     "text": [
      "Media NY-NJ: 32.5\n",
      "Media otras regiones: 36.785714285714285\n",
      "valor-p: 0.11449891680287494\n",
      "No podemos rechazar la hipótesis nula: no hay evidencia suficiente de diferencia.\n"
     ]
    },
    {
     "name": "stderr",
     "output_type": "stream",
     "text": [
      "C:\\Users\\jonat\\AppData\\Local\\Temp\\ipykernel_14724\\3073381473.py:2: FutureWarning: Downcasting behavior in `replace` is deprecated and will be removed in a future version. To retain the old behavior, explicitly call `result.infer_objects(copy=False)`. To opt-in to the future behavior, set `pd.set_option('future.no_silent_downcasting', True)`\n",
      "  t1['pago_mensual'] = t1['plan'].replace({'surf': 20, 'ultimate': 70})\n"
     ]
    }
   ],
   "source": [
    "# Prueba las hipótesis\n",
    "t1['pago_mensual'] = t1['plan'].replace({'surf': 20, 'ultimate': 70})\n",
    "\n",
    "ny_nj = t1.loc[t1['city'] == 'New York-Newark-Jersey City, NY-NJ-PA MSA', 'pago_mensual']\n",
    "otros = t1.loc[t1['city'] != 'New York-Newark-Jersey City, NY-NJ-PA MSA', 'pago_mensual']\n",
    "\n",
    "\n",
    "print(\"Media NY-NJ:\", ny_nj.mean())\n",
    "print(\"Media otras regiones:\", otros.mean())\n",
    "\n",
    "\n",
    "alpha = 0.05\n",
    "\n",
    "\n",
    "results = st.ttest_ind(ny_nj, otros, equal_var=False)\n",
    "print(\"valor-p:\", results.pvalue)\n",
    "\n",
    "\n",
    "if results.pvalue < alpha:\n",
    "    print(\"Rechazamos la hipótesis nula: los ingresos promedio son diferentes.\")\n",
    "else:\n",
    "    print(\"No podemos rechazar la hipótesis nula: no hay evidencia suficiente de diferencia.\")\n",
    "\n"
   ]
  },
  {
   "cell_type": "markdown",
   "metadata": {
    "id": "bbTR8UQO0q1T"
   },
   "source": [
    "## Conclusión general\n",
    "\n",
    "[En esta sección final, enumera tus conclusiones importantes. Asegúrate de que estas abarquen todas las decisiones (suposiciones) importantes que adoptaste y que determinaron la forma elegida para procesar y analizar los datos.]\n",
    "\n",
    "Del total de usuario por numero de meses regsitrados podemos definir que hay 1386 registros de ususarios que pagan un plan con tarifa surf, con un costo promedio de 20 y hay 872 registros de ususarios que pagan un plan con tarifa ultimate con un costo de 70, doinde si se cobran excedentes y en esta tarifa hay ususarios que muestran comportamientos distintos, tando un alto consumo como un bajo consumo alejados de la media, caso contrario con los ususarios de la tarifa surf.\n",
    "\n",
    "Sabemos igual que las ganancias en aspecto moentario son mayores los ingreso en la tarifa ultimate, contra las tarifa surf, por lo que es mas rentable la tarifa ultimate respecto a la tarifa surf, sin embargo hay mas usuarios que usan una tarifa surf que una tarifa ultimate\n",
    "\n",
    "ahora podriamos hacer una analisis mas profundo donde podamos ver el comportamiento por ciudad y calclar tanto ingresos como el comportamiento de los usuarios.\n",
    "\n",
    "Ahora la interpretacion de diagramas de caja asi como los posibles resultados de mayor evaluacion podemos deducir desde la media como los valores que representan los quartiles donde podemos ver diferentes comportamientos como valores atipicos donde hay un maxiumos y un minimo ene ste casod e consumo por plan, y caso contrario poder determianr el rango de comportamiento de un plan en concreto\n",
    "\n",
    "para la prueba de hipotesis es fundamental poder entender el dataframe con el que vamos a trabajar y poder representarlo tanto en codigo como idea , poder determinar conq ue valores s etrabaja, tanto en las ciudades como con los dataframes creados y poder definir nuestro segmente de hipotesis\n",
    "\n"
   ]
  }
 ],
 "metadata": {
  "ExecuteTimeLog": [
   {
    "duration": 828,
    "start_time": "2021-11-16T09:21:11.304Z"
   },
   {
    "duration": 893,
    "start_time": "2021-11-16T09:21:17.728Z"
   },
   {
    "duration": 1150,
    "start_time": "2021-11-16T09:21:29.568Z"
   },
   {
    "duration": 3,
    "start_time": "2021-11-16T09:24:14.495Z"
   },
   {
    "duration": 120,
    "start_time": "2021-11-16T09:24:46.630Z"
   },
   {
    "duration": 3,
    "start_time": "2021-11-16T09:28:27.882Z"
   },
   {
    "duration": 4,
    "start_time": "2021-11-16T09:29:54.281Z"
   },
   {
    "duration": 3,
    "start_time": "2021-11-16T09:30:45.936Z"
   },
   {
    "duration": 4,
    "start_time": "2021-11-16T09:31:06.300Z"
   },
   {
    "duration": 113,
    "start_time": "2021-11-16T09:31:37.208Z"
   },
   {
    "duration": 143,
    "start_time": "2021-11-16T09:31:48.656Z"
   },
   {
    "duration": 98,
    "start_time": "2021-11-16T09:31:55.678Z"
   },
   {
    "duration": 3,
    "start_time": "2021-11-16T09:32:08.535Z"
   },
   {
    "duration": 111,
    "start_time": "2021-11-16T09:32:10.120Z"
   },
   {
    "duration": 3,
    "start_time": "2021-11-16T09:32:15.732Z"
   },
   {
    "duration": 4,
    "start_time": "2021-11-16T09:32:29.423Z"
   },
   {
    "duration": 3,
    "start_time": "2021-11-16T10:03:03.074Z"
   },
   {
    "duration": 3,
    "start_time": "2021-11-16T10:10:01.288Z"
   },
   {
    "duration": 3,
    "start_time": "2021-11-16T10:10:46.923Z"
   },
   {
    "duration": 121,
    "start_time": "2021-11-16T10:37:46.494Z"
   },
   {
    "duration": 125,
    "start_time": "2021-11-16T10:38:20.632Z"
   },
   {
    "duration": 112,
    "start_time": "2021-11-16T10:46:53.001Z"
   },
   {
    "duration": 110,
    "start_time": "2021-11-16T10:48:25.775Z"
   },
   {
    "duration": 3,
    "start_time": "2021-11-16T10:50:18.720Z"
   },
   {
    "duration": 4,
    "start_time": "2021-11-16T10:50:37.649Z"
   },
   {
    "duration": 2,
    "start_time": "2021-11-16T10:50:51.884Z"
   },
   {
    "duration": 3,
    "start_time": "2021-11-16T10:51:56.237Z"
   },
   {
    "duration": 101,
    "start_time": "2021-11-16T10:53:13.791Z"
   },
   {
    "duration": 3,
    "start_time": "2021-11-16T10:55:59.186Z"
   },
   {
    "duration": 3,
    "start_time": "2021-11-16T10:56:10.751Z"
   },
   {
    "duration": 3,
    "start_time": "2021-11-16T10:56:49.038Z"
   },
   {
    "duration": 3,
    "start_time": "2021-11-16T10:56:49.174Z"
   },
   {
    "duration": 4,
    "start_time": "2021-11-16T10:56:49.414Z"
   },
   {
    "duration": 3,
    "start_time": "2021-11-16T10:56:49.680Z"
   },
   {
    "duration": 3,
    "start_time": "2021-11-16T10:56:50.370Z"
   },
   {
    "duration": 114,
    "start_time": "2021-11-16T10:59:34.518Z"
   },
   {
    "duration": 3,
    "start_time": "2021-11-16T11:01:41.201Z"
   },
   {
    "duration": 116,
    "start_time": "2021-11-16T11:01:48.754Z"
   },
   {
    "duration": 3,
    "start_time": "2021-11-16T11:02:16.685Z"
   },
   {
    "duration": 3,
    "start_time": "2021-11-16T11:02:19.479Z"
   },
   {
    "duration": 3,
    "start_time": "2021-11-16T11:02:47.067Z"
   },
   {
    "duration": 3,
    "start_time": "2021-11-16T11:02:49.353Z"
   },
   {
    "duration": 3,
    "start_time": "2021-11-16T11:03:07.835Z"
   },
   {
    "duration": 3,
    "start_time": "2021-11-16T11:03:07.953Z"
   },
   {
    "duration": 112,
    "start_time": "2021-11-16T11:07:52.072Z"
   },
   {
    "duration": 187,
    "start_time": "2021-11-16T11:09:23.468Z"
   },
   {
    "duration": 4,
    "start_time": "2021-11-16T11:10:01.455Z"
   },
   {
    "duration": 3,
    "start_time": "2021-11-16T11:10:05.069Z"
   },
   {
    "duration": 4,
    "start_time": "2021-11-16T11:10:13.376Z"
   },
   {
    "duration": 3,
    "start_time": "2021-11-16T11:10:14.434Z"
   },
   {
    "duration": 3,
    "start_time": "2021-11-16T11:10:22.853Z"
   },
   {
    "duration": 4,
    "start_time": "2021-11-16T11:27:29.279Z"
   },
   {
    "duration": 4,
    "start_time": "2021-11-16T11:29:08.919Z"
   },
   {
    "duration": 118,
    "start_time": "2021-11-16T11:29:46.703Z"
   },
   {
    "duration": 437,
    "start_time": "2021-11-16T11:36:02.181Z"
   },
   {
    "duration": 157,
    "start_time": "2021-11-16T11:36:14.388Z"
   },
   {
    "duration": 207,
    "start_time": "2021-11-16T11:47:15.898Z"
   },
   {
    "duration": 3,
    "start_time": "2021-11-16T11:53:52.092Z"
   },
   {
    "duration": 3,
    "start_time": "2021-11-16T11:53:52.236Z"
   },
   {
    "duration": 3,
    "start_time": "2021-11-16T11:59:12.005Z"
   },
   {
    "duration": 112,
    "start_time": "2021-11-16T12:00:33.446Z"
   },
   {
    "duration": 3,
    "start_time": "2021-11-16T12:02:14.453Z"
   },
   {
    "duration": 3,
    "start_time": "2021-11-16T12:02:39.512Z"
   },
   {
    "duration": 106,
    "start_time": "2021-11-16T12:03:03.460Z"
   },
   {
    "duration": 3,
    "start_time": "2021-11-17T20:37:21.139Z"
   },
   {
    "duration": 3,
    "start_time": "2021-11-17T20:37:22.229Z"
   },
   {
    "duration": 3,
    "start_time": "2021-11-17T20:38:38.806Z"
   },
   {
    "duration": 3,
    "start_time": "2021-11-17T20:38:41.958Z"
   },
   {
    "duration": 3,
    "start_time": "2021-11-17T20:43:46.551Z"
   },
   {
    "duration": 4,
    "start_time": "2021-11-17T20:58:21.835Z"
   },
   {
    "duration": 3,
    "start_time": "2021-11-17T20:59:21.872Z"
   },
   {
    "duration": 4,
    "start_time": "2021-11-17T20:59:45.352Z"
   },
   {
    "duration": 4,
    "start_time": "2021-11-17T20:59:49.646Z"
   },
   {
    "duration": 159,
    "start_time": "2021-11-17T21:02:26.949Z"
   },
   {
    "duration": 3,
    "start_time": "2021-11-17T21:03:53.461Z"
   },
   {
    "duration": 3,
    "start_time": "2021-11-17T21:03:53.694Z"
   },
   {
    "duration": 3,
    "start_time": "2021-11-17T21:05:28.145Z"
   },
   {
    "duration": 116,
    "start_time": "2021-11-17T21:05:57.787Z"
   },
   {
    "duration": 3,
    "start_time": "2021-11-17T21:06:37.993Z"
   },
   {
    "duration": 3,
    "start_time": "2021-11-17T21:06:38.261Z"
   },
   {
    "duration": 3,
    "start_time": "2021-11-17T21:11:54.358Z"
   },
   {
    "duration": 3,
    "start_time": "2021-11-17T21:12:43.846Z"
   },
   {
    "duration": 4,
    "start_time": "2021-11-17T21:13:08.773Z"
   },
   {
    "duration": 3,
    "start_time": "2021-11-17T21:14:44.441Z"
   },
   {
    "duration": 3,
    "start_time": "2021-11-17T21:15:42.059Z"
   },
   {
    "duration": 4,
    "start_time": "2021-11-17T21:15:51.995Z"
   },
   {
    "duration": 3,
    "start_time": "2021-11-17T21:15:53.923Z"
   },
   {
    "duration": 3,
    "start_time": "2021-11-17T21:15:55.282Z"
   },
   {
    "duration": 3,
    "start_time": "2021-11-17T21:16:28.492Z"
   },
   {
    "duration": 3,
    "start_time": "2021-11-17T21:16:32.603Z"
   },
   {
    "duration": 3,
    "start_time": "2021-11-17T21:17:06.941Z"
   },
   {
    "duration": 98,
    "start_time": "2021-11-17T21:18:05.733Z"
   },
   {
    "duration": 4,
    "start_time": "2021-11-17T21:21:35.255Z"
   },
   {
    "duration": 3,
    "start_time": "2021-11-17T21:21:37.804Z"
   },
   {
    "duration": 4,
    "start_time": "2021-11-17T21:23:06.071Z"
   },
   {
    "duration": 3,
    "start_time": "2021-11-17T21:23:24.799Z"
   },
   {
    "duration": 3,
    "start_time": "2021-11-17T21:23:32.591Z"
   },
   {
    "duration": 98,
    "start_time": "2021-11-17T21:28:31.559Z"
   },
   {
    "duration": 3,
    "start_time": "2021-11-17T21:28:45.448Z"
   },
   {
    "duration": 3,
    "start_time": "2021-11-17T21:29:17.303Z"
   },
   {
    "duration": 3,
    "start_time": "2021-11-17T21:29:29.617Z"
   },
   {
    "duration": 3,
    "start_time": "2021-11-17T21:29:32.681Z"
   },
   {
    "duration": 3,
    "start_time": "2021-11-17T21:36:11.474Z"
   },
   {
    "duration": 3,
    "start_time": "2021-11-17T21:36:14.791Z"
   },
   {
    "duration": 3,
    "start_time": "2021-11-17T21:36:53.943Z"
   },
   {
    "duration": 3,
    "start_time": "2021-11-17T21:36:56.165Z"
   },
   {
    "duration": 4,
    "start_time": "2021-11-17T21:37:16.590Z"
   },
   {
    "duration": 3,
    "start_time": "2021-11-17T21:37:22.702Z"
   },
   {
    "duration": 4,
    "start_time": "2021-11-17T21:38:03.479Z"
   },
   {
    "duration": 3,
    "start_time": "2021-11-17T21:38:08.601Z"
   },
   {
    "duration": 3,
    "start_time": "2021-11-17T21:38:12.928Z"
   },
   {
    "duration": 3,
    "start_time": "2021-11-17T21:38:48.896Z"
   },
   {
    "duration": 2,
    "start_time": "2021-11-17T21:38:49.171Z"
   },
   {
    "duration": 4,
    "start_time": "2021-11-17T21:39:57.889Z"
   },
   {
    "duration": 3,
    "start_time": "2021-11-17T21:39:58.057Z"
   },
   {
    "duration": 3,
    "start_time": "2021-11-17T21:41:20.108Z"
   },
   {
    "duration": 3,
    "start_time": "2021-11-17T21:41:20.629Z"
   },
   {
    "duration": 3,
    "start_time": "2021-11-17T21:42:49.136Z"
   },
   {
    "duration": 3,
    "start_time": "2021-11-17T21:43:15.137Z"
   },
   {
    "duration": 4,
    "start_time": "2021-11-17T21:43:16.766Z"
   },
   {
    "duration": 4,
    "start_time": "2021-11-17T21:43:31.711Z"
   },
   {
    "duration": 3,
    "start_time": "2021-11-17T21:43:36.312Z"
   },
   {
    "duration": 4,
    "start_time": "2021-11-17T21:45:08.825Z"
   },
   {
    "duration": 4,
    "start_time": "2021-11-17T21:45:10.119Z"
   },
   {
    "duration": 4,
    "start_time": "2021-11-17T21:45:13.748Z"
   },
   {
    "duration": 3,
    "start_time": "2021-11-17T21:45:22.219Z"
   },
   {
    "duration": 3,
    "start_time": "2021-11-17T21:45:33.412Z"
   },
   {
    "duration": 2,
    "start_time": "2021-11-17T21:46:01.885Z"
   },
   {
    "duration": 3,
    "start_time": "2021-11-17T21:46:03.628Z"
   },
   {
    "duration": 107,
    "start_time": "2021-11-17T21:47:32.512Z"
   },
   {
    "duration": 103,
    "start_time": "2021-11-17T21:50:36.243Z"
   },
   {
    "duration": 3,
    "start_time": "2021-11-18T06:28:31.440Z"
   },
   {
    "duration": 3,
    "start_time": "2021-11-18T06:29:00.168Z"
   },
   {
    "duration": 3,
    "start_time": "2021-11-18T06:31:27.008Z"
   },
   {
    "duration": 2,
    "start_time": "2021-11-18T06:35:34.288Z"
   },
   {
    "duration": 2,
    "start_time": "2021-11-18T06:38:04.527Z"
   }
  ],
  "colab": {
   "provenance": []
  },
  "kernelspec": {
   "display_name": "Python 3",
   "language": "python",
   "name": "python3"
  },
  "language_info": {
   "codemirror_mode": {
    "name": "ipython",
    "version": 3
   },
   "file_extension": ".py",
   "mimetype": "text/x-python",
   "name": "python",
   "nbconvert_exporter": "python",
   "pygments_lexer": "ipython3",
   "version": "3.11.9"
  },
  "toc": {
   "base_numbering": 1,
   "nav_menu": {},
   "number_sections": true,
   "sideBar": true,
   "skip_h1_title": false,
   "title_cell": "Table of Contents",
   "title_sidebar": "Contents",
   "toc_cell": false,
   "toc_position": {},
   "toc_section_display": true,
   "toc_window_display": true
  }
 },
 "nbformat": 4,
 "nbformat_minor": 4
}
